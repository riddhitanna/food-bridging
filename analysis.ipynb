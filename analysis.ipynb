{
  "cells": [
    {
      "cell_type": "markdown",
      "metadata": {
        "id": "AqrxNCXMGwub"
      },
      "source": [
        "# Computational and Systems Biology\n",
        "## $\\texttt{Analysis of food pairing and food bridging hypotheses}$\n",
        "\n",
        "Authors:    \n",
        "1. Vishwa Shah (201801036)\n",
        "2. Riddhi Tanna (201801427)\n",
        "3. Dishita Thaker (201801442)\n"
      ]
    },
    {
      "cell_type": "markdown",
      "source": [
        "This notebook contains the code for analysing the degree of food pairing and food bridging within cuisines. Once we calculate that, we can classify recipes into one of four kinds: \n",
        "\n",
        "\n",
        "\n",
        "\n",
        "1.   **Low** food pairing + **low** food bridging\n",
        "2.   **Low** food pairing + **high** food bridging \n",
        "3.   **High** food pairing + **low** food bridging \n",
        "4.   **High** food pairing + **high** food bridging\n",
        "\n"
      ],
      "metadata": {
        "id": "NxfdWj269WXz"
      }
    },
    {
      "cell_type": "markdown",
      "source": [
        "Note: Change file path accordingly."
      ],
      "metadata": {
        "id": "Y9nmtYY9qpMN"
      }
    },
    {
      "cell_type": "markdown",
      "metadata": {
        "id": "OUoOs5DFCIhs"
      },
      "source": [
        "## Importing libraries\n"
      ]
    },
    {
      "cell_type": "code",
      "execution_count": null,
      "metadata": {
        "id": "3D_kgzeMys_S"
      },
      "outputs": [],
      "source": [
        "import pandas as pd\n",
        "import numpy as np\n",
        "import networkx as nx\n",
        "import matplotlib.pyplot as plt\n",
        "import random"
      ]
    },
    {
      "cell_type": "markdown",
      "metadata": {
        "id": "q1Da6WhmCKMC"
      },
      "source": [
        "## Mounting drive"
      ]
    },
    {
      "cell_type": "code",
      "execution_count": null,
      "metadata": {
        "id": "ygnD4cRJEwLT",
        "colab": {
          "base_uri": "https://localhost:8080/"
        },
        "outputId": "0167313f-c813-4cce-800c-cd215c3fa55c"
      },
      "outputs": [
        {
          "output_type": "stream",
          "name": "stdout",
          "text": [
            "Mounted at /content/drive\n"
          ]
        }
      ],
      "source": [
        "from google.colab import drive\n",
        "drive.mount('/content/drive')"
      ]
    },
    {
      "cell_type": "markdown",
      "metadata": {
        "id": "eGKeSRg9CLqs"
      },
      "source": [
        "## Loading datasets"
      ]
    },
    {
      "cell_type": "code",
      "execution_count": null,
      "metadata": {
        "id": "qG9fHVx8FLDS",
        "colab": {
          "base_uri": "https://localhost:8080/"
        },
        "outputId": "ffa81cee-78ce-4f78-839c-cdce3fcc0360"
      },
      "outputs": [
        {
          "output_type": "stream",
          "name": "stderr",
          "text": [
            "/usr/local/lib/python3.7/dist-packages/IPython/core/interactiveshell.py:2718: DtypeWarning: Columns (30,31,32) have mixed types.Specify dtype option on import or set low_memory=False.\n",
            "  interactivity=interactivity, compiler=compiler, result=result)\n"
          ]
        }
      ],
      "source": [
        "# change file path here\n",
        "data_fb = pd.read_csv('/content/drive/Shareddrives/FoodBridging/flavor_network_backbone/favor_backbone.csv')\n",
        "recipe_ing = pd.read_csv('/content/drive/Shareddrives/FoodBridging/flavor_network_backbone/recipe_ingredient.csv', header=None)"
      ]
    },
    {
      "cell_type": "code",
      "source": [
        "recipe_ing"
      ],
      "metadata": {
        "colab": {
          "base_uri": "https://localhost:8080/",
          "height": 444
        },
        "id": "pmlyx9rJ8fNx",
        "outputId": "9372cdc8-c02c-475a-ba13-bb047002723b"
      },
      "execution_count": null,
      "outputs": [
        {
          "output_type": "execute_result",
          "data": {
            "text/html": [
              "<div>\n",
              "<style scoped>\n",
              "    .dataframe tbody tr th:only-of-type {\n",
              "        vertical-align: middle;\n",
              "    }\n",
              "\n",
              "    .dataframe tbody tr th {\n",
              "        vertical-align: top;\n",
              "    }\n",
              "\n",
              "    .dataframe thead th {\n",
              "        text-align: right;\n",
              "    }\n",
              "</style>\n",
              "<table border=\"1\" class=\"dataframe\">\n",
              "  <thead>\n",
              "    <tr style=\"text-align: right;\">\n",
              "      <th></th>\n",
              "      <th>0</th>\n",
              "      <th>1</th>\n",
              "      <th>2</th>\n",
              "      <th>3</th>\n",
              "      <th>4</th>\n",
              "      <th>5</th>\n",
              "      <th>6</th>\n",
              "      <th>7</th>\n",
              "      <th>8</th>\n",
              "      <th>9</th>\n",
              "      <th>10</th>\n",
              "      <th>11</th>\n",
              "      <th>12</th>\n",
              "      <th>13</th>\n",
              "      <th>14</th>\n",
              "      <th>15</th>\n",
              "      <th>16</th>\n",
              "      <th>17</th>\n",
              "      <th>18</th>\n",
              "      <th>19</th>\n",
              "      <th>20</th>\n",
              "      <th>21</th>\n",
              "      <th>22</th>\n",
              "      <th>23</th>\n",
              "      <th>24</th>\n",
              "      <th>25</th>\n",
              "      <th>26</th>\n",
              "      <th>27</th>\n",
              "      <th>28</th>\n",
              "      <th>29</th>\n",
              "      <th>30</th>\n",
              "      <th>31</th>\n",
              "      <th>32</th>\n",
              "    </tr>\n",
              "  </thead>\n",
              "  <tbody>\n",
              "    <tr>\n",
              "      <th>0</th>\n",
              "      <td>African</td>\n",
              "      <td>chicken</td>\n",
              "      <td>cinnamon</td>\n",
              "      <td>soy_sauce</td>\n",
              "      <td>onion</td>\n",
              "      <td>ginger</td>\n",
              "      <td>NaN</td>\n",
              "      <td>NaN</td>\n",
              "      <td>NaN</td>\n",
              "      <td>NaN</td>\n",
              "      <td>NaN</td>\n",
              "      <td>NaN</td>\n",
              "      <td>NaN</td>\n",
              "      <td>NaN</td>\n",
              "      <td>NaN</td>\n",
              "      <td>NaN</td>\n",
              "      <td>NaN</td>\n",
              "      <td>NaN</td>\n",
              "      <td>NaN</td>\n",
              "      <td>NaN</td>\n",
              "      <td>NaN</td>\n",
              "      <td>NaN</td>\n",
              "      <td>NaN</td>\n",
              "      <td>NaN</td>\n",
              "      <td>NaN</td>\n",
              "      <td>NaN</td>\n",
              "      <td>NaN</td>\n",
              "      <td>NaN</td>\n",
              "      <td>NaN</td>\n",
              "      <td>NaN</td>\n",
              "      <td>NaN</td>\n",
              "      <td>NaN</td>\n",
              "      <td>NaN</td>\n",
              "    </tr>\n",
              "    <tr>\n",
              "      <th>1</th>\n",
              "      <td>African</td>\n",
              "      <td>cane_molasses</td>\n",
              "      <td>ginger</td>\n",
              "      <td>cumin</td>\n",
              "      <td>garlic</td>\n",
              "      <td>tamarind</td>\n",
              "      <td>bread</td>\n",
              "      <td>coriander</td>\n",
              "      <td>vinegar</td>\n",
              "      <td>onion</td>\n",
              "      <td>beef</td>\n",
              "      <td>cayenne</td>\n",
              "      <td>parsley</td>\n",
              "      <td>wheat_bread</td>\n",
              "      <td>yogurt</td>\n",
              "      <td>vegetable_oil</td>\n",
              "      <td>egg</td>\n",
              "      <td>NaN</td>\n",
              "      <td>NaN</td>\n",
              "      <td>NaN</td>\n",
              "      <td>NaN</td>\n",
              "      <td>NaN</td>\n",
              "      <td>NaN</td>\n",
              "      <td>NaN</td>\n",
              "      <td>NaN</td>\n",
              "      <td>NaN</td>\n",
              "      <td>NaN</td>\n",
              "      <td>NaN</td>\n",
              "      <td>NaN</td>\n",
              "      <td>NaN</td>\n",
              "      <td>NaN</td>\n",
              "      <td>NaN</td>\n",
              "      <td>NaN</td>\n",
              "    </tr>\n",
              "    <tr>\n",
              "      <th>2</th>\n",
              "      <td>African</td>\n",
              "      <td>butter</td>\n",
              "      <td>pepper</td>\n",
              "      <td>onion</td>\n",
              "      <td>cardamom</td>\n",
              "      <td>cayenne</td>\n",
              "      <td>ginger</td>\n",
              "      <td>cottage_cheese</td>\n",
              "      <td>garlic</td>\n",
              "      <td>brassica</td>\n",
              "      <td>NaN</td>\n",
              "      <td>NaN</td>\n",
              "      <td>NaN</td>\n",
              "      <td>NaN</td>\n",
              "      <td>NaN</td>\n",
              "      <td>NaN</td>\n",
              "      <td>NaN</td>\n",
              "      <td>NaN</td>\n",
              "      <td>NaN</td>\n",
              "      <td>NaN</td>\n",
              "      <td>NaN</td>\n",
              "      <td>NaN</td>\n",
              "      <td>NaN</td>\n",
              "      <td>NaN</td>\n",
              "      <td>NaN</td>\n",
              "      <td>NaN</td>\n",
              "      <td>NaN</td>\n",
              "      <td>NaN</td>\n",
              "      <td>NaN</td>\n",
              "      <td>NaN</td>\n",
              "      <td>NaN</td>\n",
              "      <td>NaN</td>\n",
              "      <td>NaN</td>\n",
              "    </tr>\n",
              "    <tr>\n",
              "      <th>3</th>\n",
              "      <td>African</td>\n",
              "      <td>olive_oil</td>\n",
              "      <td>pepper</td>\n",
              "      <td>wheat</td>\n",
              "      <td>beef</td>\n",
              "      <td>onion</td>\n",
              "      <td>cardamom</td>\n",
              "      <td>cumin</td>\n",
              "      <td>garlic</td>\n",
              "      <td>rice</td>\n",
              "      <td>leek</td>\n",
              "      <td>NaN</td>\n",
              "      <td>NaN</td>\n",
              "      <td>NaN</td>\n",
              "      <td>NaN</td>\n",
              "      <td>NaN</td>\n",
              "      <td>NaN</td>\n",
              "      <td>NaN</td>\n",
              "      <td>NaN</td>\n",
              "      <td>NaN</td>\n",
              "      <td>NaN</td>\n",
              "      <td>NaN</td>\n",
              "      <td>NaN</td>\n",
              "      <td>NaN</td>\n",
              "      <td>NaN</td>\n",
              "      <td>NaN</td>\n",
              "      <td>NaN</td>\n",
              "      <td>NaN</td>\n",
              "      <td>NaN</td>\n",
              "      <td>NaN</td>\n",
              "      <td>NaN</td>\n",
              "      <td>NaN</td>\n",
              "      <td>NaN</td>\n",
              "    </tr>\n",
              "    <tr>\n",
              "      <th>4</th>\n",
              "      <td>African</td>\n",
              "      <td>honey</td>\n",
              "      <td>wheat</td>\n",
              "      <td>yeast</td>\n",
              "      <td>NaN</td>\n",
              "      <td>NaN</td>\n",
              "      <td>NaN</td>\n",
              "      <td>NaN</td>\n",
              "      <td>NaN</td>\n",
              "      <td>NaN</td>\n",
              "      <td>NaN</td>\n",
              "      <td>NaN</td>\n",
              "      <td>NaN</td>\n",
              "      <td>NaN</td>\n",
              "      <td>NaN</td>\n",
              "      <td>NaN</td>\n",
              "      <td>NaN</td>\n",
              "      <td>NaN</td>\n",
              "      <td>NaN</td>\n",
              "      <td>NaN</td>\n",
              "      <td>NaN</td>\n",
              "      <td>NaN</td>\n",
              "      <td>NaN</td>\n",
              "      <td>NaN</td>\n",
              "      <td>NaN</td>\n",
              "      <td>NaN</td>\n",
              "      <td>NaN</td>\n",
              "      <td>NaN</td>\n",
              "      <td>NaN</td>\n",
              "      <td>NaN</td>\n",
              "      <td>NaN</td>\n",
              "      <td>NaN</td>\n",
              "      <td>NaN</td>\n",
              "    </tr>\n",
              "    <tr>\n",
              "      <th>...</th>\n",
              "      <td>...</td>\n",
              "      <td>...</td>\n",
              "      <td>...</td>\n",
              "      <td>...</td>\n",
              "      <td>...</td>\n",
              "      <td>...</td>\n",
              "      <td>...</td>\n",
              "      <td>...</td>\n",
              "      <td>...</td>\n",
              "      <td>...</td>\n",
              "      <td>...</td>\n",
              "      <td>...</td>\n",
              "      <td>...</td>\n",
              "      <td>...</td>\n",
              "      <td>...</td>\n",
              "      <td>...</td>\n",
              "      <td>...</td>\n",
              "      <td>...</td>\n",
              "      <td>...</td>\n",
              "      <td>...</td>\n",
              "      <td>...</td>\n",
              "      <td>...</td>\n",
              "      <td>...</td>\n",
              "      <td>...</td>\n",
              "      <td>...</td>\n",
              "      <td>...</td>\n",
              "      <td>...</td>\n",
              "      <td>...</td>\n",
              "      <td>...</td>\n",
              "      <td>...</td>\n",
              "      <td>...</td>\n",
              "      <td>...</td>\n",
              "      <td>...</td>\n",
              "    </tr>\n",
              "    <tr>\n",
              "      <th>56493</th>\n",
              "      <td>WesternEuropean</td>\n",
              "      <td>cane_molasses</td>\n",
              "      <td>butter</td>\n",
              "      <td>wheat</td>\n",
              "      <td>whiskey</td>\n",
              "      <td>vanilla</td>\n",
              "      <td>egg</td>\n",
              "      <td>NaN</td>\n",
              "      <td>NaN</td>\n",
              "      <td>NaN</td>\n",
              "      <td>NaN</td>\n",
              "      <td>NaN</td>\n",
              "      <td>NaN</td>\n",
              "      <td>NaN</td>\n",
              "      <td>NaN</td>\n",
              "      <td>NaN</td>\n",
              "      <td>NaN</td>\n",
              "      <td>NaN</td>\n",
              "      <td>NaN</td>\n",
              "      <td>NaN</td>\n",
              "      <td>NaN</td>\n",
              "      <td>NaN</td>\n",
              "      <td>NaN</td>\n",
              "      <td>NaN</td>\n",
              "      <td>NaN</td>\n",
              "      <td>NaN</td>\n",
              "      <td>NaN</td>\n",
              "      <td>NaN</td>\n",
              "      <td>NaN</td>\n",
              "      <td>NaN</td>\n",
              "      <td>NaN</td>\n",
              "      <td>NaN</td>\n",
              "      <td>NaN</td>\n",
              "    </tr>\n",
              "    <tr>\n",
              "      <th>56494</th>\n",
              "      <td>WesternEuropean</td>\n",
              "      <td>lemon_juice</td>\n",
              "      <td>wheat</td>\n",
              "      <td>onion</td>\n",
              "      <td>parsley</td>\n",
              "      <td>celery</td>\n",
              "      <td>nutmeg</td>\n",
              "      <td>vegetable_oil</td>\n",
              "      <td>chicken</td>\n",
              "      <td>egg</td>\n",
              "      <td>leek</td>\n",
              "      <td>cream</td>\n",
              "      <td>NaN</td>\n",
              "      <td>NaN</td>\n",
              "      <td>NaN</td>\n",
              "      <td>NaN</td>\n",
              "      <td>NaN</td>\n",
              "      <td>NaN</td>\n",
              "      <td>NaN</td>\n",
              "      <td>NaN</td>\n",
              "      <td>NaN</td>\n",
              "      <td>NaN</td>\n",
              "      <td>NaN</td>\n",
              "      <td>NaN</td>\n",
              "      <td>NaN</td>\n",
              "      <td>NaN</td>\n",
              "      <td>NaN</td>\n",
              "      <td>NaN</td>\n",
              "      <td>NaN</td>\n",
              "      <td>NaN</td>\n",
              "      <td>NaN</td>\n",
              "      <td>NaN</td>\n",
              "      <td>NaN</td>\n",
              "    </tr>\n",
              "    <tr>\n",
              "      <th>56495</th>\n",
              "      <td>WesternEuropean</td>\n",
              "      <td>butter</td>\n",
              "      <td>wheat</td>\n",
              "      <td>onion</td>\n",
              "      <td>beef</td>\n",
              "      <td>bacon</td>\n",
              "      <td>black_pepper</td>\n",
              "      <td>parsley</td>\n",
              "      <td>beer</td>\n",
              "      <td>garlic</td>\n",
              "      <td>lemon</td>\n",
              "      <td>NaN</td>\n",
              "      <td>NaN</td>\n",
              "      <td>NaN</td>\n",
              "      <td>NaN</td>\n",
              "      <td>NaN</td>\n",
              "      <td>NaN</td>\n",
              "      <td>NaN</td>\n",
              "      <td>NaN</td>\n",
              "      <td>NaN</td>\n",
              "      <td>NaN</td>\n",
              "      <td>NaN</td>\n",
              "      <td>NaN</td>\n",
              "      <td>NaN</td>\n",
              "      <td>NaN</td>\n",
              "      <td>NaN</td>\n",
              "      <td>NaN</td>\n",
              "      <td>NaN</td>\n",
              "      <td>NaN</td>\n",
              "      <td>NaN</td>\n",
              "      <td>NaN</td>\n",
              "      <td>NaN</td>\n",
              "      <td>NaN</td>\n",
              "    </tr>\n",
              "    <tr>\n",
              "      <th>56496</th>\n",
              "      <td>WesternEuropean</td>\n",
              "      <td>lemon</td>\n",
              "      <td>onion</td>\n",
              "      <td>black_pepper</td>\n",
              "      <td>white_wine</td>\n",
              "      <td>celery</td>\n",
              "      <td>carrot</td>\n",
              "      <td>mussel</td>\n",
              "      <td>bay</td>\n",
              "      <td>NaN</td>\n",
              "      <td>NaN</td>\n",
              "      <td>NaN</td>\n",
              "      <td>NaN</td>\n",
              "      <td>NaN</td>\n",
              "      <td>NaN</td>\n",
              "      <td>NaN</td>\n",
              "      <td>NaN</td>\n",
              "      <td>NaN</td>\n",
              "      <td>NaN</td>\n",
              "      <td>NaN</td>\n",
              "      <td>NaN</td>\n",
              "      <td>NaN</td>\n",
              "      <td>NaN</td>\n",
              "      <td>NaN</td>\n",
              "      <td>NaN</td>\n",
              "      <td>NaN</td>\n",
              "      <td>NaN</td>\n",
              "      <td>NaN</td>\n",
              "      <td>NaN</td>\n",
              "      <td>NaN</td>\n",
              "      <td>NaN</td>\n",
              "      <td>NaN</td>\n",
              "      <td>NaN</td>\n",
              "    </tr>\n",
              "    <tr>\n",
              "      <th>56497</th>\n",
              "      <td>WesternEuropean</td>\n",
              "      <td>butter</td>\n",
              "      <td>cheese</td>\n",
              "      <td>wheat</td>\n",
              "      <td>ham</td>\n",
              "      <td>black_pepper</td>\n",
              "      <td>parsley</td>\n",
              "      <td>parmesan_cheese</td>\n",
              "      <td>chicory</td>\n",
              "      <td>nutmeg</td>\n",
              "      <td>milk</td>\n",
              "      <td>NaN</td>\n",
              "      <td>NaN</td>\n",
              "      <td>NaN</td>\n",
              "      <td>NaN</td>\n",
              "      <td>NaN</td>\n",
              "      <td>NaN</td>\n",
              "      <td>NaN</td>\n",
              "      <td>NaN</td>\n",
              "      <td>NaN</td>\n",
              "      <td>NaN</td>\n",
              "      <td>NaN</td>\n",
              "      <td>NaN</td>\n",
              "      <td>NaN</td>\n",
              "      <td>NaN</td>\n",
              "      <td>NaN</td>\n",
              "      <td>NaN</td>\n",
              "      <td>NaN</td>\n",
              "      <td>NaN</td>\n",
              "      <td>NaN</td>\n",
              "      <td>NaN</td>\n",
              "      <td>NaN</td>\n",
              "      <td>NaN</td>\n",
              "    </tr>\n",
              "  </tbody>\n",
              "</table>\n",
              "<p>56498 rows × 33 columns</p>\n",
              "</div>"
            ],
            "text/plain": [
              "                    0              1         2   ...   30   31   32\n",
              "0              African        chicken  cinnamon  ...  NaN  NaN  NaN\n",
              "1              African  cane_molasses    ginger  ...  NaN  NaN  NaN\n",
              "2              African         butter    pepper  ...  NaN  NaN  NaN\n",
              "3              African      olive_oil    pepper  ...  NaN  NaN  NaN\n",
              "4              African          honey     wheat  ...  NaN  NaN  NaN\n",
              "...                ...            ...       ...  ...  ...  ...  ...\n",
              "56493  WesternEuropean  cane_molasses    butter  ...  NaN  NaN  NaN\n",
              "56494  WesternEuropean    lemon_juice     wheat  ...  NaN  NaN  NaN\n",
              "56495  WesternEuropean         butter     wheat  ...  NaN  NaN  NaN\n",
              "56496  WesternEuropean          lemon     onion  ...  NaN  NaN  NaN\n",
              "56497  WesternEuropean         butter    cheese  ...  NaN  NaN  NaN\n",
              "\n",
              "[56498 rows x 33 columns]"
            ]
          },
          "metadata": {},
          "execution_count": 4
        }
      ]
    },
    {
      "cell_type": "code",
      "execution_count": null,
      "metadata": {
        "id": "q73_Pn2l-YSw",
        "colab": {
          "base_uri": "https://localhost:8080/"
        },
        "outputId": "c420a50a-7228-4743-d747-87d0700f16a6"
      },
      "outputs": [
        {
          "output_type": "execute_result",
          "data": {
            "text/plain": [
              "array(['African', 'EastAsian', 'EasternEuropean', 'LatinAmerican',\n",
              "       'MiddleEastern', 'NorthAmerican', 'NorthernEuropean', 'SouthAsian',\n",
              "       'SoutheastAsian', 'SouthernEuropean', 'WesternEuropean'],\n",
              "      dtype=object)"
            ]
          },
          "metadata": {},
          "execution_count": 5
        }
      ],
      "source": [
        "recipe_ing[0].unique()"
      ]
    },
    {
      "cell_type": "code",
      "execution_count": null,
      "metadata": {
        "id": "NegpI2xgv5TP"
      },
      "outputs": [],
      "source": [
        "cuisines = ['EastAsian', 'LatinAmerican', 'EasternEuropean', 'WesternEuropean', 'SouthernEuropean', 'SoutheastAsian', 'NorthAmerican']"
      ]
    },
    {
      "cell_type": "code",
      "execution_count": null,
      "metadata": {
        "id": "roEeZt9kVfcc"
      },
      "outputs": [],
      "source": [
        "data_fb.columns = ['source', 'target', 'weight']"
      ]
    },
    {
      "cell_type": "code",
      "execution_count": null,
      "metadata": {
        "colab": {
          "base_uri": "https://localhost:8080/",
          "height": 424
        },
        "id": "3-mZnzMV2Rbo",
        "outputId": "e540d01d-6725-40e5-8dd6-0a5c44d59f06"
      },
      "outputs": [
        {
          "output_type": "execute_result",
          "data": {
            "text/html": [
              "<div>\n",
              "<style scoped>\n",
              "    .dataframe tbody tr th:only-of-type {\n",
              "        vertical-align: middle;\n",
              "    }\n",
              "\n",
              "    .dataframe tbody tr th {\n",
              "        vertical-align: top;\n",
              "    }\n",
              "\n",
              "    .dataframe thead th {\n",
              "        text-align: right;\n",
              "    }\n",
              "</style>\n",
              "<table border=\"1\" class=\"dataframe\">\n",
              "  <thead>\n",
              "    <tr style=\"text-align: right;\">\n",
              "      <th></th>\n",
              "      <th>weight</th>\n",
              "    </tr>\n",
              "  </thead>\n",
              "  <tbody>\n",
              "    <tr>\n",
              "      <th>0</th>\n",
              "      <td>3</td>\n",
              "    </tr>\n",
              "    <tr>\n",
              "      <th>1</th>\n",
              "      <td>5</td>\n",
              "    </tr>\n",
              "    <tr>\n",
              "      <th>2</th>\n",
              "      <td>57</td>\n",
              "    </tr>\n",
              "    <tr>\n",
              "      <th>3</th>\n",
              "      <td>1</td>\n",
              "    </tr>\n",
              "    <tr>\n",
              "      <th>4</th>\n",
              "      <td>2</td>\n",
              "    </tr>\n",
              "    <tr>\n",
              "      <th>...</th>\n",
              "      <td>...</td>\n",
              "    </tr>\n",
              "    <tr>\n",
              "      <th>221772</th>\n",
              "      <td>1</td>\n",
              "    </tr>\n",
              "    <tr>\n",
              "      <th>221773</th>\n",
              "      <td>6</td>\n",
              "    </tr>\n",
              "    <tr>\n",
              "      <th>221774</th>\n",
              "      <td>1</td>\n",
              "    </tr>\n",
              "    <tr>\n",
              "      <th>221775</th>\n",
              "      <td>6</td>\n",
              "    </tr>\n",
              "    <tr>\n",
              "      <th>221776</th>\n",
              "      <td>4</td>\n",
              "    </tr>\n",
              "  </tbody>\n",
              "</table>\n",
              "<p>221777 rows × 1 columns</p>\n",
              "</div>"
            ],
            "text/plain": [
              "        weight\n",
              "0            3\n",
              "1            5\n",
              "2           57\n",
              "3            1\n",
              "4            2\n",
              "...        ...\n",
              "221772       1\n",
              "221773       6\n",
              "221774       1\n",
              "221775       6\n",
              "221776       4\n",
              "\n",
              "[221777 rows x 1 columns]"
            ]
          },
          "metadata": {},
          "execution_count": 8
        }
      ],
      "source": [
        "data_fb[['weight']].apply(pd.to_numeric)"
      ]
    },
    {
      "cell_type": "markdown",
      "source": [
        "## Analysis"
      ],
      "metadata": {
        "id": "V_1bmxiTWJz4"
      }
    },
    {
      "cell_type": "code",
      "source": [
        "# change file path here\n",
        "semi_metric = nx.read_edgelist('/content/drive/Shareddrives/FoodBridging/data/semi_metric_2.csv', comments=\"#\", delimiter=\",\", data=True, encoding=\"utf-8\")\n",
        "metric = nx.read_edgelist('/content/drive/Shareddrives/FoodBridging/data/metric_2.csv', comments=\"#\", delimiter=\",\", data=True, encoding=\"utf-8\")\n",
        "df_reduced = pd.read_csv('/content/drive/Shareddrives/FoodBridging/data/reduced_df_30.csv', delimiter=\",\", encoding=\"utf-8\")"
      ],
      "metadata": {
        "id": "M8rdsQ71WMBf"
      },
      "execution_count": null,
      "outputs": []
    },
    {
      "cell_type": "code",
      "source": [
        "df_reduced.drop(['Unnamed: 0'], axis = 1, inplace = True)"
      ],
      "metadata": {
        "id": "a49bt_IE8rW2"
      },
      "execution_count": null,
      "outputs": []
    },
    {
      "cell_type": "code",
      "source": [
        "df_reduced"
      ],
      "metadata": {
        "colab": {
          "base_uri": "https://localhost:8080/",
          "height": 444
        },
        "id": "oMMaTgjf858j",
        "outputId": "0296df6c-f240-404b-c137-c43c6da9d4fc"
      },
      "execution_count": null,
      "outputs": [
        {
          "output_type": "execute_result",
          "data": {
            "text/html": [
              "<div>\n",
              "<style scoped>\n",
              "    .dataframe tbody tr th:only-of-type {\n",
              "        vertical-align: middle;\n",
              "    }\n",
              "\n",
              "    .dataframe tbody tr th {\n",
              "        vertical-align: top;\n",
              "    }\n",
              "\n",
              "    .dataframe thead th {\n",
              "        text-align: right;\n",
              "    }\n",
              "</style>\n",
              "<table border=\"1\" class=\"dataframe\">\n",
              "  <thead>\n",
              "    <tr style=\"text-align: right;\">\n",
              "      <th></th>\n",
              "      <th>0</th>\n",
              "      <th>1</th>\n",
              "      <th>2</th>\n",
              "      <th>3</th>\n",
              "      <th>4</th>\n",
              "      <th>5</th>\n",
              "      <th>6</th>\n",
              "      <th>7</th>\n",
              "      <th>8</th>\n",
              "      <th>9</th>\n",
              "      <th>10</th>\n",
              "      <th>11</th>\n",
              "      <th>12</th>\n",
              "      <th>13</th>\n",
              "      <th>14</th>\n",
              "      <th>15</th>\n",
              "      <th>16</th>\n",
              "      <th>17</th>\n",
              "      <th>18</th>\n",
              "      <th>19</th>\n",
              "      <th>20</th>\n",
              "      <th>21</th>\n",
              "      <th>22</th>\n",
              "      <th>23</th>\n",
              "      <th>24</th>\n",
              "      <th>25</th>\n",
              "      <th>26</th>\n",
              "      <th>27</th>\n",
              "      <th>28</th>\n",
              "      <th>29</th>\n",
              "      <th>30</th>\n",
              "      <th>31</th>\n",
              "      <th>32</th>\n",
              "    </tr>\n",
              "  </thead>\n",
              "  <tbody>\n",
              "    <tr>\n",
              "      <th>0</th>\n",
              "      <td>EastAsian</td>\n",
              "      <td>vinegar</td>\n",
              "      <td>mustard</td>\n",
              "      <td>beef</td>\n",
              "      <td>radish</td>\n",
              "      <td>pear</td>\n",
              "      <td>cucumber</td>\n",
              "      <td>buckwheat</td>\n",
              "      <td>egg</td>\n",
              "      <td>NaN</td>\n",
              "      <td>NaN</td>\n",
              "      <td>NaN</td>\n",
              "      <td>NaN</td>\n",
              "      <td>NaN</td>\n",
              "      <td>NaN</td>\n",
              "      <td>NaN</td>\n",
              "      <td>NaN</td>\n",
              "      <td>NaN</td>\n",
              "      <td>NaN</td>\n",
              "      <td>NaN</td>\n",
              "      <td>NaN</td>\n",
              "      <td>NaN</td>\n",
              "      <td>NaN</td>\n",
              "      <td>NaN</td>\n",
              "      <td>NaN</td>\n",
              "      <td>NaN</td>\n",
              "      <td>NaN</td>\n",
              "      <td>NaN</td>\n",
              "      <td>NaN</td>\n",
              "      <td>NaN</td>\n",
              "      <td>NaN</td>\n",
              "      <td>NaN</td>\n",
              "      <td>NaN</td>\n",
              "    </tr>\n",
              "    <tr>\n",
              "      <th>1</th>\n",
              "      <td>EastAsian</td>\n",
              "      <td>soybean</td>\n",
              "      <td>NaN</td>\n",
              "      <td>NaN</td>\n",
              "      <td>NaN</td>\n",
              "      <td>NaN</td>\n",
              "      <td>NaN</td>\n",
              "      <td>NaN</td>\n",
              "      <td>NaN</td>\n",
              "      <td>NaN</td>\n",
              "      <td>NaN</td>\n",
              "      <td>NaN</td>\n",
              "      <td>NaN</td>\n",
              "      <td>NaN</td>\n",
              "      <td>NaN</td>\n",
              "      <td>NaN</td>\n",
              "      <td>NaN</td>\n",
              "      <td>NaN</td>\n",
              "      <td>NaN</td>\n",
              "      <td>NaN</td>\n",
              "      <td>NaN</td>\n",
              "      <td>NaN</td>\n",
              "      <td>NaN</td>\n",
              "      <td>NaN</td>\n",
              "      <td>NaN</td>\n",
              "      <td>NaN</td>\n",
              "      <td>NaN</td>\n",
              "      <td>NaN</td>\n",
              "      <td>NaN</td>\n",
              "      <td>NaN</td>\n",
              "      <td>NaN</td>\n",
              "      <td>NaN</td>\n",
              "      <td>NaN</td>\n",
              "    </tr>\n",
              "    <tr>\n",
              "      <th>2</th>\n",
              "      <td>EastAsian</td>\n",
              "      <td>sesame_oil</td>\n",
              "      <td>vegetable</td>\n",
              "      <td>soy_sauce</td>\n",
              "      <td>rice</td>\n",
              "      <td>cayenne</td>\n",
              "      <td>scallion</td>\n",
              "      <td>NaN</td>\n",
              "      <td>NaN</td>\n",
              "      <td>NaN</td>\n",
              "      <td>NaN</td>\n",
              "      <td>NaN</td>\n",
              "      <td>NaN</td>\n",
              "      <td>NaN</td>\n",
              "      <td>NaN</td>\n",
              "      <td>NaN</td>\n",
              "      <td>NaN</td>\n",
              "      <td>NaN</td>\n",
              "      <td>NaN</td>\n",
              "      <td>NaN</td>\n",
              "      <td>NaN</td>\n",
              "      <td>NaN</td>\n",
              "      <td>NaN</td>\n",
              "      <td>NaN</td>\n",
              "      <td>NaN</td>\n",
              "      <td>NaN</td>\n",
              "      <td>NaN</td>\n",
              "      <td>NaN</td>\n",
              "      <td>NaN</td>\n",
              "      <td>NaN</td>\n",
              "      <td>NaN</td>\n",
              "      <td>NaN</td>\n",
              "      <td>NaN</td>\n",
              "    </tr>\n",
              "    <tr>\n",
              "      <th>3</th>\n",
              "      <td>EastAsian</td>\n",
              "      <td>nut</td>\n",
              "      <td>watermelon</td>\n",
              "      <td>ginger</td>\n",
              "      <td>NaN</td>\n",
              "      <td>NaN</td>\n",
              "      <td>NaN</td>\n",
              "      <td>NaN</td>\n",
              "      <td>NaN</td>\n",
              "      <td>NaN</td>\n",
              "      <td>NaN</td>\n",
              "      <td>NaN</td>\n",
              "      <td>NaN</td>\n",
              "      <td>NaN</td>\n",
              "      <td>NaN</td>\n",
              "      <td>NaN</td>\n",
              "      <td>NaN</td>\n",
              "      <td>NaN</td>\n",
              "      <td>NaN</td>\n",
              "      <td>NaN</td>\n",
              "      <td>NaN</td>\n",
              "      <td>NaN</td>\n",
              "      <td>NaN</td>\n",
              "      <td>NaN</td>\n",
              "      <td>NaN</td>\n",
              "      <td>NaN</td>\n",
              "      <td>NaN</td>\n",
              "      <td>NaN</td>\n",
              "      <td>NaN</td>\n",
              "      <td>NaN</td>\n",
              "      <td>NaN</td>\n",
              "      <td>NaN</td>\n",
              "      <td>NaN</td>\n",
              "    </tr>\n",
              "    <tr>\n",
              "      <th>4</th>\n",
              "      <td>EastAsian</td>\n",
              "      <td>vinegar</td>\n",
              "      <td>sesame_oil</td>\n",
              "      <td>shiitake</td>\n",
              "      <td>kelp</td>\n",
              "      <td>vegetable_oil</td>\n",
              "      <td>rice</td>\n",
              "      <td>soy_sauce</td>\n",
              "      <td>brown_rice</td>\n",
              "      <td>NaN</td>\n",
              "      <td>NaN</td>\n",
              "      <td>NaN</td>\n",
              "      <td>NaN</td>\n",
              "      <td>NaN</td>\n",
              "      <td>NaN</td>\n",
              "      <td>NaN</td>\n",
              "      <td>NaN</td>\n",
              "      <td>NaN</td>\n",
              "      <td>NaN</td>\n",
              "      <td>NaN</td>\n",
              "      <td>NaN</td>\n",
              "      <td>NaN</td>\n",
              "      <td>NaN</td>\n",
              "      <td>NaN</td>\n",
              "      <td>NaN</td>\n",
              "      <td>NaN</td>\n",
              "      <td>NaN</td>\n",
              "      <td>NaN</td>\n",
              "      <td>NaN</td>\n",
              "      <td>NaN</td>\n",
              "      <td>NaN</td>\n",
              "      <td>NaN</td>\n",
              "      <td>NaN</td>\n",
              "    </tr>\n",
              "    <tr>\n",
              "      <th>...</th>\n",
              "      <td>...</td>\n",
              "      <td>...</td>\n",
              "      <td>...</td>\n",
              "      <td>...</td>\n",
              "      <td>...</td>\n",
              "      <td>...</td>\n",
              "      <td>...</td>\n",
              "      <td>...</td>\n",
              "      <td>...</td>\n",
              "      <td>...</td>\n",
              "      <td>...</td>\n",
              "      <td>...</td>\n",
              "      <td>...</td>\n",
              "      <td>...</td>\n",
              "      <td>...</td>\n",
              "      <td>...</td>\n",
              "      <td>...</td>\n",
              "      <td>...</td>\n",
              "      <td>...</td>\n",
              "      <td>...</td>\n",
              "      <td>...</td>\n",
              "      <td>...</td>\n",
              "      <td>...</td>\n",
              "      <td>...</td>\n",
              "      <td>...</td>\n",
              "      <td>...</td>\n",
              "      <td>...</td>\n",
              "      <td>...</td>\n",
              "      <td>...</td>\n",
              "      <td>...</td>\n",
              "      <td>...</td>\n",
              "      <td>...</td>\n",
              "      <td>...</td>\n",
              "    </tr>\n",
              "    <tr>\n",
              "      <th>205</th>\n",
              "      <td>NorthAmerican</td>\n",
              "      <td>butter</td>\n",
              "      <td>dill</td>\n",
              "      <td>wheat</td>\n",
              "      <td>thyme</td>\n",
              "      <td>sage</td>\n",
              "      <td>seed</td>\n",
              "      <td>yogurt</td>\n",
              "      <td>cheddar_cheese</td>\n",
              "      <td>egg</td>\n",
              "      <td>milk</td>\n",
              "      <td>NaN</td>\n",
              "      <td>NaN</td>\n",
              "      <td>NaN</td>\n",
              "      <td>NaN</td>\n",
              "      <td>NaN</td>\n",
              "      <td>NaN</td>\n",
              "      <td>NaN</td>\n",
              "      <td>NaN</td>\n",
              "      <td>NaN</td>\n",
              "      <td>NaN</td>\n",
              "      <td>NaN</td>\n",
              "      <td>NaN</td>\n",
              "      <td>NaN</td>\n",
              "      <td>NaN</td>\n",
              "      <td>NaN</td>\n",
              "      <td>NaN</td>\n",
              "      <td>NaN</td>\n",
              "      <td>NaN</td>\n",
              "      <td>NaN</td>\n",
              "      <td>NaN</td>\n",
              "      <td>NaN</td>\n",
              "      <td>NaN</td>\n",
              "    </tr>\n",
              "    <tr>\n",
              "      <th>206</th>\n",
              "      <td>NorthAmerican</td>\n",
              "      <td>beer</td>\n",
              "      <td>bean</td>\n",
              "      <td>kidney_bean</td>\n",
              "      <td>garlic</td>\n",
              "      <td>cayenne</td>\n",
              "      <td>cumin</td>\n",
              "      <td>NaN</td>\n",
              "      <td>NaN</td>\n",
              "      <td>NaN</td>\n",
              "      <td>NaN</td>\n",
              "      <td>NaN</td>\n",
              "      <td>NaN</td>\n",
              "      <td>NaN</td>\n",
              "      <td>NaN</td>\n",
              "      <td>NaN</td>\n",
              "      <td>NaN</td>\n",
              "      <td>NaN</td>\n",
              "      <td>NaN</td>\n",
              "      <td>NaN</td>\n",
              "      <td>NaN</td>\n",
              "      <td>NaN</td>\n",
              "      <td>NaN</td>\n",
              "      <td>NaN</td>\n",
              "      <td>NaN</td>\n",
              "      <td>NaN</td>\n",
              "      <td>NaN</td>\n",
              "      <td>NaN</td>\n",
              "      <td>NaN</td>\n",
              "      <td>NaN</td>\n",
              "      <td>NaN</td>\n",
              "      <td>NaN</td>\n",
              "      <td>NaN</td>\n",
              "    </tr>\n",
              "    <tr>\n",
              "      <th>207</th>\n",
              "      <td>NorthAmerican</td>\n",
              "      <td>egg</td>\n",
              "      <td>vanilla</td>\n",
              "      <td>wheat</td>\n",
              "      <td>milk</td>\n",
              "      <td>peach</td>\n",
              "      <td>NaN</td>\n",
              "      <td>NaN</td>\n",
              "      <td>NaN</td>\n",
              "      <td>NaN</td>\n",
              "      <td>NaN</td>\n",
              "      <td>NaN</td>\n",
              "      <td>NaN</td>\n",
              "      <td>NaN</td>\n",
              "      <td>NaN</td>\n",
              "      <td>NaN</td>\n",
              "      <td>NaN</td>\n",
              "      <td>NaN</td>\n",
              "      <td>NaN</td>\n",
              "      <td>NaN</td>\n",
              "      <td>NaN</td>\n",
              "      <td>NaN</td>\n",
              "      <td>NaN</td>\n",
              "      <td>NaN</td>\n",
              "      <td>NaN</td>\n",
              "      <td>NaN</td>\n",
              "      <td>NaN</td>\n",
              "      <td>NaN</td>\n",
              "      <td>NaN</td>\n",
              "      <td>NaN</td>\n",
              "      <td>NaN</td>\n",
              "      <td>NaN</td>\n",
              "      <td>NaN</td>\n",
              "    </tr>\n",
              "    <tr>\n",
              "      <th>208</th>\n",
              "      <td>NorthAmerican</td>\n",
              "      <td>butter</td>\n",
              "      <td>banana</td>\n",
              "      <td>rum</td>\n",
              "      <td>cherry</td>\n",
              "      <td>vanilla</td>\n",
              "      <td>walnut</td>\n",
              "      <td>cocoa</td>\n",
              "      <td>pineapple</td>\n",
              "      <td>milk</td>\n",
              "      <td>cream</td>\n",
              "      <td>NaN</td>\n",
              "      <td>NaN</td>\n",
              "      <td>NaN</td>\n",
              "      <td>NaN</td>\n",
              "      <td>NaN</td>\n",
              "      <td>NaN</td>\n",
              "      <td>NaN</td>\n",
              "      <td>NaN</td>\n",
              "      <td>NaN</td>\n",
              "      <td>NaN</td>\n",
              "      <td>NaN</td>\n",
              "      <td>NaN</td>\n",
              "      <td>NaN</td>\n",
              "      <td>NaN</td>\n",
              "      <td>NaN</td>\n",
              "      <td>NaN</td>\n",
              "      <td>NaN</td>\n",
              "      <td>NaN</td>\n",
              "      <td>NaN</td>\n",
              "      <td>NaN</td>\n",
              "      <td>NaN</td>\n",
              "      <td>NaN</td>\n",
              "    </tr>\n",
              "    <tr>\n",
              "      <th>209</th>\n",
              "      <td>NorthAmerican</td>\n",
              "      <td>cane_molasses</td>\n",
              "      <td>cheese</td>\n",
              "      <td>pepper</td>\n",
              "      <td>wheat</td>\n",
              "      <td>thyme</td>\n",
              "      <td>yeast</td>\n",
              "      <td>black_pepper</td>\n",
              "      <td>parmesan_cheese</td>\n",
              "      <td>oregano</td>\n",
              "      <td>basil</td>\n",
              "      <td>rosemary</td>\n",
              "      <td>NaN</td>\n",
              "      <td>NaN</td>\n",
              "      <td>NaN</td>\n",
              "      <td>NaN</td>\n",
              "      <td>NaN</td>\n",
              "      <td>NaN</td>\n",
              "      <td>NaN</td>\n",
              "      <td>NaN</td>\n",
              "      <td>NaN</td>\n",
              "      <td>NaN</td>\n",
              "      <td>NaN</td>\n",
              "      <td>NaN</td>\n",
              "      <td>NaN</td>\n",
              "      <td>NaN</td>\n",
              "      <td>NaN</td>\n",
              "      <td>NaN</td>\n",
              "      <td>NaN</td>\n",
              "      <td>NaN</td>\n",
              "      <td>NaN</td>\n",
              "      <td>NaN</td>\n",
              "      <td>NaN</td>\n",
              "    </tr>\n",
              "  </tbody>\n",
              "</table>\n",
              "<p>210 rows × 33 columns</p>\n",
              "</div>"
            ],
            "text/plain": [
              "                 0              1           2            3  ...  29  30  31  32\n",
              "0        EastAsian        vinegar     mustard         beef  ... NaN NaN NaN NaN\n",
              "1        EastAsian        soybean         NaN          NaN  ... NaN NaN NaN NaN\n",
              "2        EastAsian     sesame_oil   vegetable    soy_sauce  ... NaN NaN NaN NaN\n",
              "3        EastAsian            nut  watermelon       ginger  ... NaN NaN NaN NaN\n",
              "4        EastAsian        vinegar  sesame_oil     shiitake  ... NaN NaN NaN NaN\n",
              "..             ...            ...         ...          ...  ...  ..  ..  ..  ..\n",
              "205  NorthAmerican         butter        dill        wheat  ... NaN NaN NaN NaN\n",
              "206  NorthAmerican           beer        bean  kidney_bean  ... NaN NaN NaN NaN\n",
              "207  NorthAmerican            egg     vanilla        wheat  ... NaN NaN NaN NaN\n",
              "208  NorthAmerican         butter      banana          rum  ... NaN NaN NaN NaN\n",
              "209  NorthAmerican  cane_molasses      cheese       pepper  ... NaN NaN NaN NaN\n",
              "\n",
              "[210 rows x 33 columns]"
            ]
          },
          "metadata": {},
          "execution_count": 11
        }
      ]
    },
    {
      "cell_type": "code",
      "source": [
        "r = np.array(df_reduced[df_reduced.columns[1:]].iloc[0])\n",
        "r = [e for e in r if type(e) != float] "
      ],
      "metadata": {
        "id": "zpW695FuYa3a"
      },
      "execution_count": null,
      "outputs": []
    },
    {
      "cell_type": "markdown",
      "source": [
        "---\n",
        "**Food pairing**\n",
        "\n",
        "$N_S(R) = \\frac{2}{n_R(n_R - 1)} \\sum C_i \\cap C_j $\n",
        "\n",
        "---\n",
        "\n"
      ],
      "metadata": {
        "id": "C_pg-sjObNfI"
      }
    },
    {
      "cell_type": "code",
      "source": [
        "df_r2 = df_reduced.drop(['0'], axis = 1)"
      ],
      "metadata": {
        "id": "UGRcx0RHNBs8"
      },
      "execution_count": null,
      "outputs": []
    },
    {
      "cell_type": "code",
      "source": [
        "unique_nodes = pd.Series(df_r2.values.ravel()).unique()\n",
        "print('Number of unique nodes in the sub graph of the sample: ', len(pd.Series(df_r2.values.ravel()).unique()))"
      ],
      "metadata": {
        "colab": {
          "base_uri": "https://localhost:8080/"
        },
        "id": "Whf16C7iM567",
        "outputId": "06464b4b-0839-43a5-e65b-12a2e76438b4"
      },
      "execution_count": null,
      "outputs": [
        {
          "output_type": "stream",
          "name": "stdout",
          "text": [
            "Number of unique nodes in the sub graph of the sample:  218\n"
          ]
        }
      ]
    },
    {
      "cell_type": "code",
      "execution_count": null,
      "metadata": {
        "id": "ILYcdWwCRC8f"
      },
      "outputs": [],
      "source": [
        "G = nx.Graph()\n",
        "G = nx.from_pandas_edgelist(data_fb, edge_attr='weight')"
      ]
    },
    {
      "cell_type": "code",
      "execution_count": null,
      "metadata": {
        "id": "plVIM9bGxzVB"
      },
      "outputs": [],
      "source": [
        "# making a sampled subgraph \n",
        "G_sub = G.subgraph(unique_nodes)"
      ]
    },
    {
      "cell_type": "code",
      "source": [
        "len(df_reduced)"
      ],
      "metadata": {
        "colab": {
          "base_uri": "https://localhost:8080/"
        },
        "id": "yAs32aJ3NSw4",
        "outputId": "a4da846c-5f81-4f86-cf3a-e02ac39c62bb"
      },
      "execution_count": null,
      "outputs": [
        {
          "output_type": "execute_result",
          "data": {
            "text/plain": [
              "210"
            ]
          },
          "metadata": {},
          "execution_count": 18
        }
      ]
    },
    {
      "cell_type": "code",
      "source": [
        "nsr = []\n",
        "smp = []\n",
        "num_ing_arr = []\n",
        "nsr_m = []\n",
        "for recipe in range(len(df_reduced)):\n",
        "\n",
        "  #print(recipe)\n",
        "  # store sum of edge weights\n",
        "  sum = 0 \n",
        "  semi_sum = 0\n",
        "  m_sum = 0\n",
        "  tot_ed = 0\n",
        "  # remove nan\n",
        "  r = np.array(df_reduced[df_reduced.columns[1:]].iloc[int(recipe)])\n",
        "  r = [e for e in r if type(e) != float] \n",
        "  #print(r)\n",
        "  # get number of ingredients - nr\n",
        "  num_ing = len(r)\n",
        "  num_ing_arr.append(num_ing)\n",
        "\n",
        "  for ing_1 in r:\n",
        "    for ing_2 in r:\n",
        "      if ing_1 != ing_2:\n",
        "        try:\n",
        "          sum = sum + G_sub.get_edge_data(ing_1, ing_2)['weight']\n",
        "          tot_ed = tot_ed + 1\n",
        "          #ed = G_sub.get_edge_data(ing_1, ing_2)\n",
        "          if semi_metric.has_edge(ing_1, ing_2):\n",
        "            semi_sum = semi_sum + 1\n",
        "          if metric.has_edge(ing_1, ing_2):\n",
        "            m_sum = m_sum + 1\n",
        "          \n",
        "        except:\n",
        "          pass\n",
        "\n",
        "  # calculating nsr \n",
        "  if tot_ed != 0:\n",
        "    #print(sum, num_ing*(num_ing - 1))\n",
        "    NSR = (2/(num_ing*(num_ing - 1)))*sum\n",
        "    #print(NSR)\n",
        "    nsr.append(NSR)\n",
        "    smp.append(semi_sum/tot_ed)\n",
        "    nsr_m.append(m_sum/tot_ed)"
      ],
      "metadata": {
        "id": "Rx9pAxUbWVmP"
      },
      "execution_count": null,
      "outputs": []
    },
    {
      "cell_type": "code",
      "source": [
        "j = 0\n",
        "dict_nsr = {}\n",
        "dict_smp = {}\n",
        "dict_ing = {}\n",
        "for c in cuisines:\n",
        "  dict_nsr[c] = np.array(nsr[j:j+30]).mean()\n",
        "  dict_smp[c] = np.array(smp[j:j+30]).mean()\n",
        "  dict_ing[c] = np.array(num_ing_arr[j:j+30]).mean()\n",
        "  j = j + 30"
      ],
      "metadata": {
        "id": "Cl1McqVXrucu"
      },
      "execution_count": null,
      "outputs": []
    },
    {
      "cell_type": "code",
      "source": [
        "dict_ing"
      ],
      "metadata": {
        "colab": {
          "base_uri": "https://localhost:8080/"
        },
        "id": "TJEfDyhqub48",
        "outputId": "677a0e68-c964-489c-e23e-ad0e721cb6c0"
      },
      "execution_count": null,
      "outputs": [
        {
          "output_type": "execute_result",
          "data": {
            "text/plain": [
              "{'EastAsian': 12.366666666666667,\n",
              " 'EasternEuropean': 12.233333333333333,\n",
              " 'LatinAmerican': 13.833333333333334,\n",
              " 'NorthAmerican': 11.266666666666667,\n",
              " 'SoutheastAsian': 15.9,\n",
              " 'SouthernEuropean': 12.566666666666666,\n",
              " 'WesternEuropean': 12.2}"
            ]
          },
          "metadata": {},
          "execution_count": 23
        }
      ]
    },
    {
      "cell_type": "code",
      "source": [
        "nsr_vals = list(dict_nsr.values())\n",
        "nsr_vals.sort()\n",
        "smp_vals = list(dict_smp.values())\n",
        "smp_vals.sort()"
      ],
      "metadata": {
        "id": "7yAX5Ui5wbnP"
      },
      "execution_count": null,
      "outputs": []
    },
    {
      "cell_type": "code",
      "source": [
        "import operator\n",
        "sorted_nsr = np.array(sorted(dict_nsr.items(), key=operator.itemgetter(1)))\n",
        "sorted_smp = np.array(sorted(dict_smp.items(), key=operator.itemgetter(1)))\n",
        "sorted_ing = np.array(sorted(dict_ing.items(), key=operator.itemgetter(1)))"
      ],
      "metadata": {
        "id": "oYvB9gtgeB2D"
      },
      "execution_count": null,
      "outputs": []
    },
    {
      "cell_type": "code",
      "source": [
        "sorted_ing"
      ],
      "metadata": {
        "colab": {
          "base_uri": "https://localhost:8080/"
        },
        "id": "qU7FgCY5zZQx",
        "outputId": "3a8150de-d63a-4140-86dc-68b249aaf8c4"
      },
      "execution_count": null,
      "outputs": [
        {
          "output_type": "execute_result",
          "data": {
            "text/plain": [
              "array([['NorthAmerican', '11.266666666666667'],\n",
              "       ['WesternEuropean', '12.2'],\n",
              "       ['EasternEuropean', '12.233333333333333'],\n",
              "       ['EastAsian', '12.366666666666667'],\n",
              "       ['SouthernEuropean', '12.566666666666666'],\n",
              "       ['LatinAmerican', '13.833333333333334'],\n",
              "       ['SoutheastAsian', '15.9']], dtype='<U18')"
            ]
          },
          "metadata": {},
          "execution_count": 26
        }
      ]
    },
    {
      "cell_type": "code",
      "source": [
        "def chunks(lst, n):\n",
        "  '''\n",
        "  Function that returns chunked list\n",
        "  '''\n",
        "  for i in range(0, len(lst), n):\n",
        "    return [lst[i:i + n] for i in range(0, len(lst), n)]"
      ],
      "metadata": {
        "id": "ZxtvQ3NDaqAP"
      },
      "execution_count": null,
      "outputs": []
    },
    {
      "cell_type": "code",
      "source": [
        "fig, ax = plt.subplots(figsize = [13,13])\n",
        "plt.plot(np.arange(1, 9), [float(x) for x in sorted_nsr[:, 1]]+[0], '.', markersize = 20, color = 'k')\n",
        "\n",
        "for label, x, y in zip(sorted_nsr[:, 0], np.arange(1, len(cuisines)+1), [float(x) for x in sorted_nsr[:, 1]]):\n",
        "    plt.annotate(label, xy = (x+0.1, y-0.15), fontsize = 18)\n",
        "\n",
        "ax.set_ylim(5, 10)\n",
        "plt.xticks(fontsize = 15)\n",
        "plt.yticks(fontsize = 15)\n",
        "# plt.tick_params(\n",
        "#     axis='x',          # changes apply to the x-axis\n",
        "#     which='both',      # both major and minor ticks are affected\n",
        "#     bottom=False,      # ticks along the bottom edge are off\n",
        "#     top=False,         # ticks along the top edge are off\n",
        "#     labelbottom=False)\n",
        "\n",
        "\n",
        "plt.ylabel('<N(R)>', fontsize = 20)\n",
        "plt.xlabel('Rank', fontsize = 20)\n",
        "plt.title('Average food pairing', fontsize = 25)\n",
        "ax.spines['right'].set_visible(False)\n",
        "ax.spines['top'].set_visible(False)\n",
        "plt.show()"
      ],
      "metadata": {
        "colab": {
          "base_uri": "https://localhost:8080/",
          "height": 808
        },
        "id": "8oWAqEzmufNb",
        "outputId": "7b8c22bd-abfb-49e4-b8bc-8fc81b4bf403"
      },
      "execution_count": null,
      "outputs": [
        {
          "output_type": "display_data",
          "data": {
            "image/png": "[encoded data removed]",
            "text/plain": [
              "<Figure size 936x936 with 1 Axes>"
            ]
          },
          "metadata": {
            "needs_background": "light"
          }
        }
      ]
    },
    {
      "cell_type": "code",
      "source": [
        "fig, ax = plt.subplots(figsize = [13,13])\n",
        "plt.plot(np.arange(1, 9), [float(x) for x in sorted_smp[:, 1]]+[-1], '.', markersize = 20, color = 'k')\n",
        "\n",
        "for label, x, y in zip(sorted_smp[:, 0], np.arange(1, len(cuisines)+1), [float(x) for x in sorted_smp[:, 1]]):\n",
        "    plt.annotate(label, xy = (x+0.1, y-0.005), fontsize = 18)\n",
        "\n",
        "ax.set_ylim(0.15, 0.4)\n",
        "plt.xticks(fontsize = 15)\n",
        "plt.yticks(fontsize = 15)\n",
        "# plt.tick_params(\n",
        "#     axis='x',          # changes apply to the x-axis\n",
        "#     which='both',      # both major and minor ticks are affected\n",
        "#     bottom=False,      # ticks along the bottom edge are off\n",
        "#     top=False,         # ticks along the top edge are off\n",
        "#     labelbottom=False)\n",
        "\n",
        "\n",
        "plt.ylabel('<SMP(R)>', fontsize = 20)\n",
        "plt.xlabel('Rank', fontsize = 20)\n",
        "plt.title('Average food bridging', fontsize = 25)\n",
        "ax.spines['right'].set_visible(False)\n",
        "ax.spines['top'].set_visible(False)\n",
        "plt.show()"
      ],
      "metadata": {
        "colab": {
          "base_uri": "https://localhost:8080/",
          "height": 808
        },
        "id": "8dFB8PPPvOXp",
        "outputId": "683ebf13-9231-46ce-9823-3e2ba0b8042b"
      },
      "execution_count": null,
      "outputs": [
        {
          "output_type": "display_data",
          "data": {
            "image/png": "[encoded data removed]",
            "text/plain": [
              "<Figure size 936x936 with 1 Axes>"
            ]
          },
          "metadata": {
            "needs_background": "light"
          }
        }
      ]
    },
    {
      "cell_type": "code",
      "source": [
        "fig, ax = plt.subplots(figsize = [10,10])\n",
        "plt.plot(list(dict_nsr.values()), list(dict_smp.values()), '.', markersize=20, color = 'k')\n",
        "ax.set_xlim([5, 10])\n",
        "ax.set_ylim([0.15, 0.4])\n",
        "for label, x, y in zip(list(dict_nsr.keys()), list(dict_nsr.values()), list(dict_smp.values())):\n",
        "    plt.annotate(label, xy = (x, y-0.01), fontsize = 15)\n",
        "plt.axhline(y=0.275, color='r', linestyle='--')\n",
        "plt.axvline(x=7.5, color='r', linestyle='--')\n",
        "plt.xticks(fontsize = 15)\n",
        "plt.yticks(fontsize = 15)\n",
        "plt.xlabel('<N(R)>', fontsize = 15)\n",
        "plt.ylabel('<SMP(R)>', fontsize = 15)\n",
        "plt.title('Food pairing vs. food bridging', fontsize = 20)\n",
        "ax.spines['right'].set_visible(False)\n",
        "ax.spines['top'].set_visible(False)\n",
        "plt.show()"
      ],
      "metadata": {
        "colab": {
          "base_uri": "https://localhost:8080/",
          "height": 637
        },
        "id": "FlmTHFKjyZqB",
        "outputId": "ff249ea2-fd16-4a36-963d-f1404d0b8415"
      },
      "execution_count": null,
      "outputs": [
        {
          "output_type": "display_data",
          "data": {
            "image/png": "[encoded data removed]",
            "text/plain": [
              "<Figure size 720x720 with 1 Axes>"
            ]
          },
          "metadata": {
            "needs_background": "light"
          }
        }
      ]
    },
    {
      "cell_type": "code",
      "source": [
        "ing_smp = []"
      ],
      "metadata": {
        "id": "JRvM53kq1jmY"
      },
      "execution_count": null,
      "outputs": []
    },
    {
      "cell_type": "code",
      "source": [
        "len(G_sub.nodes), len(G_sub.edges)"
      ],
      "metadata": {
        "id": "vxoWAC2O1bfB",
        "colab": {
          "base_uri": "https://localhost:8080/"
        },
        "outputId": "6806d555-b16e-49a0-c9de-f50f8cbea862"
      },
      "execution_count": null,
      "outputs": [
        {
          "output_type": "execute_result",
          "data": {
            "text/plain": [
              "(216, 14698)"
            ]
          },
          "metadata": {},
          "execution_count": 34
        }
      ]
    },
    {
      "cell_type": "code",
      "source": [
        "# avg food pairing versus avg ingredients\n",
        "\n",
        "fig, ax = plt.subplots(figsize = [10,10])\n",
        "plt.plot(list(dict_ing.values()), list(dict_nsr.values()), '.', markersize=20, color = 'k')\n",
        "#ax.set_xlim([0, 5])\n",
        "#ax.set_ylim([0.15, 0.5])\n",
        "for label, x, y in zip(list(dict_nsr.keys()), list(dict_ing.values()), list(dict_nsr.values())):\n",
        "    plt.annotate(label, xy = (x+0.1, y+0.02), fontsize = 15)\n",
        "# plt.axhline(y=0.35, color='r', linestyle='--')\n",
        "# plt.axvline(x=2.5, color='r', linestyle='--')\n",
        "plt.xticks(fontsize = 15)\n",
        "plt.yticks(fontsize = 15)\n",
        "plt.xlabel('Avg. number of ingredients', fontsize = 15)\n",
        "plt.ylabel('<N(R)>', fontsize = 15)\n",
        "plt.title('Avg. number of ingredients vs. avg. food pairing', fontsize = 20)\n",
        "ax.spines['right'].set_visible(False)\n",
        "ax.spines['top'].set_visible(False)\n",
        "plt.show()"
      ],
      "metadata": {
        "id": "JGbIIfRfyY09"
      },
      "execution_count": null,
      "outputs": []
    },
    {
      "cell_type": "code",
      "source": [
        "# avg food bridging versus avg ingredients\n",
        "\n",
        "fig, ax = plt.subplots(figsize = [10,10])\n",
        "plt.plot(list(dict_ing.values()), list(dict_smp.values()), '.', markersize=20, color = 'k')\n",
        "#ax.set_xlim([0, 5])\n",
        "#ax.set_ylim([0.15, 0.5])\n",
        "for label, x, y in zip(list(dict_smp.keys()), list(dict_ing.values()), list(dict_smp.values())):\n",
        "    plt.annotate(label, xy = (x, y-0.008), fontsize = 15)\n",
        "# plt.axhline(y=0.35, color='r', linestyle='--')\n",
        "# plt.axvline(x=2.5, color='r', linestyle='--')\n",
        "plt.xticks(fontsize = 15)\n",
        "plt.yticks(fontsize = 15)\n",
        "plt.xlabel('Avg. number of ingredients', fontsize = 15)\n",
        "plt.ylabel('<SMP(R)>', fontsize = 15)\n",
        "plt.title('Avg. number of ingredients vs. avg. food bridging', fontsize = 20)\n",
        "ax.spines['right'].set_visible(False)\n",
        "ax.spines['top'].set_visible(False)\n",
        "plt.show()"
      ],
      "metadata": {
        "id": "ZqZdnB0m2LDZ"
      },
      "execution_count": null,
      "outputs": []
    },
    {
      "cell_type": "markdown",
      "source": [
        "## Calculating $R^2$"
      ],
      "metadata": {
        "id": "a5pzPvPJrGAt"
      }
    },
    {
      "cell_type": "code",
      "source": [
        "from scipy.stats import pearsonr\n",
        "r, p = pearsonr(list(dict_ing.values()), list(dict_nsr.values()))"
      ],
      "metadata": {
        "id": "gssHoH0T-4od"
      },
      "execution_count": null,
      "outputs": []
    },
    {
      "cell_type": "code",
      "source": [
        "r**2"
      ],
      "metadata": {
        "id": "Bf8b_mnq_TUq"
      },
      "execution_count": null,
      "outputs": []
    },
    {
      "cell_type": "code",
      "source": [
        "r, p = pearsonr(list(dict_ing.values()), list(dict_smp.values()))"
      ],
      "metadata": {
        "id": "8sgJzv3MAmJ1"
      },
      "execution_count": null,
      "outputs": []
    },
    {
      "cell_type": "code",
      "source": [
        "r**2"
      ],
      "metadata": {
        "id": "o1pyMcR2Avm2"
      },
      "execution_count": null,
      "outputs": []
    }
  ],
  "metadata": {
    "colab": {
      "collapsed_sections": [
        "OUoOs5DFCIhs",
        "q1Da6WhmCKMC"
      ],
      "name": "analysis.ipynb",
      "provenance": []
    },
    "kernelspec": {
      "display_name": "Python 3",
      "name": "python3"
    },
    "language_info": {
      "name": "python"
    }
  },
  "nbformat": 4,
  "nbformat_minor": 0
}