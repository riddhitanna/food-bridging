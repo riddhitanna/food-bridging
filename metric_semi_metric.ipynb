{
  "cells": [
    {
      "cell_type": "markdown",
      "metadata": {
        "id": "AqrxNCXMGwub"
      },
      "source": [
        "# Computational and Systems Biology\n",
        "## $\\texttt{Analysis of food pairing and food bridging hypotheses}$\n",
        "\n",
        "Authors:    \n",
        "1. Vishwa Shah (201801036)\n",
        "2. Riddhi Tanna (201801427)\n",
        "3. Dishita Thaker (201801442)\n",
        "\n",
        "This notebook contains the code for preprocessing data and obtaining the metric and semi-metric backbone networks. \n",
        "\n",
        "###▶ Semi metric edge:\n",
        "An edge between two nodes is said to be semi-metric if there does exists an alternative path that is shorter than the direct edge between them. \n",
        "\n",
        "###▶  Metric edge:\n",
        "An edge between two node is said to be metric if there does not exist an alternative path that is shorter than the direct edge between them. \n",
        "\n",
        "--- \n",
        "In our case, a path is shorter if there is a strong connection through shared flavours. Hence, we need to find the longest path between the two nodes. But, this problem is NP-complete and hence, is very expensive computationally. So, we resort to comparing the direct edges with the first 10 shortest paths between two nodes. If the cost of any of those paths is more than the cost of the direct edge, we classify that edge as a semi-metric edge. Otherwise, the edge is metric. \n",
        "\n",
        "--- "
      ]
    },
    {
      "cell_type": "markdown",
      "metadata": {
        "id": "OUoOs5DFCIhs"
      },
      "source": [
        "### Importing libraries\n"
      ]
    },
    {
      "cell_type": "code",
      "execution_count": null,
      "metadata": {
        "id": "3D_kgzeMys_S"
      },
      "outputs": [],
      "source": [
        "import pandas as pd\n",
        "import numpy as np\n",
        "import networkx as nx\n",
        "import matplotlib.pyplot as plt\n",
        "import random"
      ]
    },
    {
      "cell_type": "markdown",
      "metadata": {
        "id": "q1Da6WhmCKMC"
      },
      "source": [
        "### Mounting drive"
      ]
    },
    {
      "cell_type": "code",
      "execution_count": null,
      "metadata": {
        "id": "ygnD4cRJEwLT",
        "colab": {
          "base_uri": "https://localhost:8080/"
        },
        "outputId": "1f99eded-8fcb-448d-9ed2-200eccc6c1fb"
      },
      "outputs": [
        {
          "output_type": "stream",
          "name": "stdout",
          "text": [
            "Mounted at /content/drive\n"
          ]
        }
      ],
      "source": [
        "from google.colab import drive\n",
        "drive.mount('/content/drive')"
      ]
    },
    {
      "cell_type": "markdown",
      "metadata": {
        "id": "eGKeSRg9CLqs"
      },
      "source": [
        "### Loading datasets"
      ]
    },
    {
      "cell_type": "code",
      "execution_count": null,
      "metadata": {
        "id": "qG9fHVx8FLDS",
        "colab": {
          "base_uri": "https://localhost:8080/"
        },
        "outputId": "f014295c-7bae-47ad-dc96-9a029f4bcf6e"
      },
      "outputs": [
        {
          "output_type": "stream",
          "name": "stderr",
          "text": [
            "/usr/local/lib/python3.7/dist-packages/IPython/core/interactiveshell.py:2718: DtypeWarning: Columns (30,31,32) have mixed types.Specify dtype option on import or set low_memory=False.\n",
            "  interactivity=interactivity, compiler=compiler, result=result)\n"
          ]
        }
      ],
      "source": [
        "# change path here\n",
        "data_fb = pd.read_csv('/content/drive/Shareddrives/FoodBridging/flavor_network_backbone/favor_backbone.csv')\n",
        "recipe_ing = pd.read_csv('/content/drive/Shareddrives/FoodBridging/flavor_network_backbone/recipe_ingredient.csv', header=None)"
      ]
    },
    {
      "cell_type": "code",
      "execution_count": null,
      "metadata": {
        "id": "q73_Pn2l-YSw",
        "colab": {
          "base_uri": "https://localhost:8080/"
        },
        "outputId": "313b32a8-3865-476a-bed3-c78a38a20951"
      },
      "outputs": [
        {
          "output_type": "execute_result",
          "data": {
            "text/plain": [
              "array(['African', 'EastAsian', 'EasternEuropean', 'LatinAmerican',\n",
              "       'MiddleEastern', 'NorthAmerican', 'NorthernEuropean', 'SouthAsian',\n",
              "       'SoutheastAsian', 'SouthernEuropean', 'WesternEuropean'],\n",
              "      dtype=object)"
            ]
          },
          "metadata": {},
          "execution_count": 4
        }
      ],
      "source": [
        "recipe_ing[0].unique()"
      ]
    },
    {
      "cell_type": "code",
      "execution_count": null,
      "metadata": {
        "id": "NegpI2xgv5TP"
      },
      "outputs": [],
      "source": [
        "cuisines = ['EastAsian', 'LatinAmerican', 'EasternEuropean', 'WesternEuropean', 'SouthernEuropean', 'SoutheastAsian', 'NorthAmerican']"
      ]
    },
    {
      "cell_type": "markdown",
      "metadata": {
        "id": "lEHBLzSYCPOr"
      },
      "source": [
        "### Data preprocessing"
      ]
    },
    {
      "cell_type": "code",
      "execution_count": null,
      "metadata": {
        "id": "zSEfy-of-xXf"
      },
      "outputs": [],
      "source": [
        "df_reduced = pd.DataFrame()\n",
        "for cuisine in cuisines: \n",
        "    idxs = random.sample(list(recipe_ing.index[recipe_ing[0] == cuisine]), 20)\n",
        "    df_reduced = df_reduced.append(recipe_ing.iloc[idxs], ignore_index=True)"
      ]
    },
    {
      "cell_type": "markdown",
      "metadata": {
        "id": "h2nFRbbiCWLN"
      },
      "source": [
        "### Reduced dataframe"
      ]
    },
    {
      "cell_type": "code",
      "execution_count": null,
      "metadata": {
        "id": "2INfU1gtAN5n",
        "colab": {
          "base_uri": "https://localhost:8080/",
          "height": 444
        },
        "outputId": "45bfdfc1-3d29-4ad8-9ed9-90900474cd09"
      },
      "outputs": [
        {
          "output_type": "execute_result",
          "data": {
            "text/html": [
              "<div>\n",
              "<style scoped>\n",
              "    .dataframe tbody tr th:only-of-type {\n",
              "        vertical-align: middle;\n",
              "    }\n",
              "\n",
              "    .dataframe tbody tr th {\n",
              "        vertical-align: top;\n",
              "    }\n",
              "\n",
              "    .dataframe thead th {\n",
              "        text-align: right;\n",
              "    }\n",
              "</style>\n",
              "<table border=\"1\" class=\"dataframe\">\n",
              "  <thead>\n",
              "    <tr style=\"text-align: right;\">\n",
              "      <th></th>\n",
              "      <th>0</th>\n",
              "      <th>1</th>\n",
              "      <th>2</th>\n",
              "      <th>3</th>\n",
              "      <th>4</th>\n",
              "      <th>5</th>\n",
              "      <th>6</th>\n",
              "      <th>7</th>\n",
              "      <th>8</th>\n",
              "      <th>9</th>\n",
              "      <th>10</th>\n",
              "      <th>11</th>\n",
              "      <th>12</th>\n",
              "      <th>13</th>\n",
              "      <th>14</th>\n",
              "      <th>15</th>\n",
              "      <th>16</th>\n",
              "      <th>17</th>\n",
              "      <th>18</th>\n",
              "      <th>19</th>\n",
              "      <th>20</th>\n",
              "      <th>21</th>\n",
              "      <th>22</th>\n",
              "      <th>23</th>\n",
              "      <th>24</th>\n",
              "      <th>25</th>\n",
              "      <th>26</th>\n",
              "      <th>27</th>\n",
              "      <th>28</th>\n",
              "      <th>29</th>\n",
              "      <th>30</th>\n",
              "      <th>31</th>\n",
              "      <th>32</th>\n",
              "    </tr>\n",
              "  </thead>\n",
              "  <tbody>\n",
              "    <tr>\n",
              "      <th>0</th>\n",
              "      <td>EastAsian</td>\n",
              "      <td>nut</td>\n",
              "      <td>NaN</td>\n",
              "      <td>NaN</td>\n",
              "      <td>NaN</td>\n",
              "      <td>NaN</td>\n",
              "      <td>NaN</td>\n",
              "      <td>NaN</td>\n",
              "      <td>NaN</td>\n",
              "      <td>NaN</td>\n",
              "      <td>NaN</td>\n",
              "      <td>NaN</td>\n",
              "      <td>NaN</td>\n",
              "      <td>NaN</td>\n",
              "      <td>NaN</td>\n",
              "      <td>NaN</td>\n",
              "      <td>NaN</td>\n",
              "      <td>NaN</td>\n",
              "      <td>NaN</td>\n",
              "      <td>NaN</td>\n",
              "      <td>NaN</td>\n",
              "      <td>NaN</td>\n",
              "      <td>NaN</td>\n",
              "      <td>NaN</td>\n",
              "      <td>NaN</td>\n",
              "      <td>NaN</td>\n",
              "      <td>NaN</td>\n",
              "      <td>NaN</td>\n",
              "      <td>NaN</td>\n",
              "      <td>NaN</td>\n",
              "      <td>NaN</td>\n",
              "      <td>NaN</td>\n",
              "      <td>NaN</td>\n",
              "    </tr>\n",
              "    <tr>\n",
              "      <th>1</th>\n",
              "      <td>EastAsian</td>\n",
              "      <td>sesame_oil</td>\n",
              "      <td>roasted_sesame_seed</td>\n",
              "      <td>soy_sauce</td>\n",
              "      <td>cayenne</td>\n",
              "      <td>chinese_cabbage</td>\n",
              "      <td>shrimp</td>\n",
              "      <td>garlic</td>\n",
              "      <td>ginger</td>\n",
              "      <td>scallion</td>\n",
              "      <td>NaN</td>\n",
              "      <td>NaN</td>\n",
              "      <td>NaN</td>\n",
              "      <td>NaN</td>\n",
              "      <td>NaN</td>\n",
              "      <td>NaN</td>\n",
              "      <td>NaN</td>\n",
              "      <td>NaN</td>\n",
              "      <td>NaN</td>\n",
              "      <td>NaN</td>\n",
              "      <td>NaN</td>\n",
              "      <td>NaN</td>\n",
              "      <td>NaN</td>\n",
              "      <td>NaN</td>\n",
              "      <td>NaN</td>\n",
              "      <td>NaN</td>\n",
              "      <td>NaN</td>\n",
              "      <td>NaN</td>\n",
              "      <td>NaN</td>\n",
              "      <td>NaN</td>\n",
              "      <td>NaN</td>\n",
              "      <td>NaN</td>\n",
              "      <td>NaN</td>\n",
              "    </tr>\n",
              "    <tr>\n",
              "      <th>2</th>\n",
              "      <td>EastAsian</td>\n",
              "      <td>sesame_oil</td>\n",
              "      <td>mushroom</td>\n",
              "      <td>starch</td>\n",
              "      <td>shallot</td>\n",
              "      <td>corn</td>\n",
              "      <td>ginger</td>\n",
              "      <td>white_wine</td>\n",
              "      <td>bean</td>\n",
              "      <td>carrot</td>\n",
              "      <td>garlic</td>\n",
              "      <td>soybean</td>\n",
              "      <td>oyster</td>\n",
              "      <td>cilantro</td>\n",
              "      <td>onion</td>\n",
              "      <td>asparagus</td>\n",
              "      <td>chicken_broth</td>\n",
              "      <td>celery</td>\n",
              "      <td>fish</td>\n",
              "      <td>soy_sauce</td>\n",
              "      <td>root</td>\n",
              "      <td>shiitake</td>\n",
              "      <td>NaN</td>\n",
              "      <td>NaN</td>\n",
              "      <td>NaN</td>\n",
              "      <td>NaN</td>\n",
              "      <td>NaN</td>\n",
              "      <td>NaN</td>\n",
              "      <td>NaN</td>\n",
              "      <td>NaN</td>\n",
              "      <td>NaN</td>\n",
              "      <td>NaN</td>\n",
              "      <td>NaN</td>\n",
              "    </tr>\n",
              "    <tr>\n",
              "      <th>3</th>\n",
              "      <td>EastAsian</td>\n",
              "      <td>garlic</td>\n",
              "      <td>fish</td>\n",
              "      <td>cayenne</td>\n",
              "      <td>soy_sauce</td>\n",
              "      <td>potato</td>\n",
              "      <td>NaN</td>\n",
              "      <td>NaN</td>\n",
              "      <td>NaN</td>\n",
              "      <td>NaN</td>\n",
              "      <td>NaN</td>\n",
              "      <td>NaN</td>\n",
              "      <td>NaN</td>\n",
              "      <td>NaN</td>\n",
              "      <td>NaN</td>\n",
              "      <td>NaN</td>\n",
              "      <td>NaN</td>\n",
              "      <td>NaN</td>\n",
              "      <td>NaN</td>\n",
              "      <td>NaN</td>\n",
              "      <td>NaN</td>\n",
              "      <td>NaN</td>\n",
              "      <td>NaN</td>\n",
              "      <td>NaN</td>\n",
              "      <td>NaN</td>\n",
              "      <td>NaN</td>\n",
              "      <td>NaN</td>\n",
              "      <td>NaN</td>\n",
              "      <td>NaN</td>\n",
              "      <td>NaN</td>\n",
              "      <td>NaN</td>\n",
              "      <td>NaN</td>\n",
              "      <td>NaN</td>\n",
              "    </tr>\n",
              "    <tr>\n",
              "      <th>4</th>\n",
              "      <td>EastAsian</td>\n",
              "      <td>garlic</td>\n",
              "      <td>sesame_oil</td>\n",
              "      <td>roasted_sesame_seed</td>\n",
              "      <td>black_pepper</td>\n",
              "      <td>soy_sauce</td>\n",
              "      <td>cayenne</td>\n",
              "      <td>scallion</td>\n",
              "      <td>NaN</td>\n",
              "      <td>NaN</td>\n",
              "      <td>NaN</td>\n",
              "      <td>NaN</td>\n",
              "      <td>NaN</td>\n",
              "      <td>NaN</td>\n",
              "      <td>NaN</td>\n",
              "      <td>NaN</td>\n",
              "      <td>NaN</td>\n",
              "      <td>NaN</td>\n",
              "      <td>NaN</td>\n",
              "      <td>NaN</td>\n",
              "      <td>NaN</td>\n",
              "      <td>NaN</td>\n",
              "      <td>NaN</td>\n",
              "      <td>NaN</td>\n",
              "      <td>NaN</td>\n",
              "      <td>NaN</td>\n",
              "      <td>NaN</td>\n",
              "      <td>NaN</td>\n",
              "      <td>NaN</td>\n",
              "      <td>NaN</td>\n",
              "      <td>NaN</td>\n",
              "      <td>NaN</td>\n",
              "      <td>NaN</td>\n",
              "    </tr>\n",
              "    <tr>\n",
              "      <th>...</th>\n",
              "      <td>...</td>\n",
              "      <td>...</td>\n",
              "      <td>...</td>\n",
              "      <td>...</td>\n",
              "      <td>...</td>\n",
              "      <td>...</td>\n",
              "      <td>...</td>\n",
              "      <td>...</td>\n",
              "      <td>...</td>\n",
              "      <td>...</td>\n",
              "      <td>...</td>\n",
              "      <td>...</td>\n",
              "      <td>...</td>\n",
              "      <td>...</td>\n",
              "      <td>...</td>\n",
              "      <td>...</td>\n",
              "      <td>...</td>\n",
              "      <td>...</td>\n",
              "      <td>...</td>\n",
              "      <td>...</td>\n",
              "      <td>...</td>\n",
              "      <td>...</td>\n",
              "      <td>...</td>\n",
              "      <td>...</td>\n",
              "      <td>...</td>\n",
              "      <td>...</td>\n",
              "      <td>...</td>\n",
              "      <td>...</td>\n",
              "      <td>...</td>\n",
              "      <td>...</td>\n",
              "      <td>...</td>\n",
              "      <td>...</td>\n",
              "      <td>...</td>\n",
              "    </tr>\n",
              "    <tr>\n",
              "      <th>135</th>\n",
              "      <td>NorthAmerican</td>\n",
              "      <td>tomato</td>\n",
              "      <td>olive_oil</td>\n",
              "      <td>onion</td>\n",
              "      <td>vinegar</td>\n",
              "      <td>black_pepper</td>\n",
              "      <td>parmesan_cheese</td>\n",
              "      <td>macaroni</td>\n",
              "      <td>bell_pepper</td>\n",
              "      <td>basil</td>\n",
              "      <td>NaN</td>\n",
              "      <td>NaN</td>\n",
              "      <td>NaN</td>\n",
              "      <td>NaN</td>\n",
              "      <td>NaN</td>\n",
              "      <td>NaN</td>\n",
              "      <td>NaN</td>\n",
              "      <td>NaN</td>\n",
              "      <td>NaN</td>\n",
              "      <td>NaN</td>\n",
              "      <td>NaN</td>\n",
              "      <td>NaN</td>\n",
              "      <td>NaN</td>\n",
              "      <td>NaN</td>\n",
              "      <td>NaN</td>\n",
              "      <td>NaN</td>\n",
              "      <td>NaN</td>\n",
              "      <td>NaN</td>\n",
              "      <td>NaN</td>\n",
              "      <td>NaN</td>\n",
              "      <td>NaN</td>\n",
              "      <td>NaN</td>\n",
              "      <td>NaN</td>\n",
              "    </tr>\n",
              "    <tr>\n",
              "      <th>136</th>\n",
              "      <td>NorthAmerican</td>\n",
              "      <td>tomato</td>\n",
              "      <td>dill</td>\n",
              "      <td>chicken</td>\n",
              "      <td>onion</td>\n",
              "      <td>turmeric</td>\n",
              "      <td>NaN</td>\n",
              "      <td>NaN</td>\n",
              "      <td>NaN</td>\n",
              "      <td>NaN</td>\n",
              "      <td>NaN</td>\n",
              "      <td>NaN</td>\n",
              "      <td>NaN</td>\n",
              "      <td>NaN</td>\n",
              "      <td>NaN</td>\n",
              "      <td>NaN</td>\n",
              "      <td>NaN</td>\n",
              "      <td>NaN</td>\n",
              "      <td>NaN</td>\n",
              "      <td>NaN</td>\n",
              "      <td>NaN</td>\n",
              "      <td>NaN</td>\n",
              "      <td>NaN</td>\n",
              "      <td>NaN</td>\n",
              "      <td>NaN</td>\n",
              "      <td>NaN</td>\n",
              "      <td>NaN</td>\n",
              "      <td>NaN</td>\n",
              "      <td>NaN</td>\n",
              "      <td>NaN</td>\n",
              "      <td>NaN</td>\n",
              "      <td>NaN</td>\n",
              "      <td>NaN</td>\n",
              "    </tr>\n",
              "    <tr>\n",
              "      <th>137</th>\n",
              "      <td>NorthAmerican</td>\n",
              "      <td>butter</td>\n",
              "      <td>wheat</td>\n",
              "      <td>bell_pepper</td>\n",
              "      <td>onion</td>\n",
              "      <td>potato</td>\n",
              "      <td>parmesan_cheese</td>\n",
              "      <td>bread</td>\n",
              "      <td>NaN</td>\n",
              "      <td>NaN</td>\n",
              "      <td>NaN</td>\n",
              "      <td>NaN</td>\n",
              "      <td>NaN</td>\n",
              "      <td>NaN</td>\n",
              "      <td>NaN</td>\n",
              "      <td>NaN</td>\n",
              "      <td>NaN</td>\n",
              "      <td>NaN</td>\n",
              "      <td>NaN</td>\n",
              "      <td>NaN</td>\n",
              "      <td>NaN</td>\n",
              "      <td>NaN</td>\n",
              "      <td>NaN</td>\n",
              "      <td>NaN</td>\n",
              "      <td>NaN</td>\n",
              "      <td>NaN</td>\n",
              "      <td>NaN</td>\n",
              "      <td>NaN</td>\n",
              "      <td>NaN</td>\n",
              "      <td>NaN</td>\n",
              "      <td>NaN</td>\n",
              "      <td>NaN</td>\n",
              "      <td>NaN</td>\n",
              "    </tr>\n",
              "    <tr>\n",
              "      <th>138</th>\n",
              "      <td>NorthAmerican</td>\n",
              "      <td>butter</td>\n",
              "      <td>pepper</td>\n",
              "      <td>macaroni</td>\n",
              "      <td>cream_cheese</td>\n",
              "      <td>milk</td>\n",
              "      <td>parmesan_cheese</td>\n",
              "      <td>NaN</td>\n",
              "      <td>NaN</td>\n",
              "      <td>NaN</td>\n",
              "      <td>NaN</td>\n",
              "      <td>NaN</td>\n",
              "      <td>NaN</td>\n",
              "      <td>NaN</td>\n",
              "      <td>NaN</td>\n",
              "      <td>NaN</td>\n",
              "      <td>NaN</td>\n",
              "      <td>NaN</td>\n",
              "      <td>NaN</td>\n",
              "      <td>NaN</td>\n",
              "      <td>NaN</td>\n",
              "      <td>NaN</td>\n",
              "      <td>NaN</td>\n",
              "      <td>NaN</td>\n",
              "      <td>NaN</td>\n",
              "      <td>NaN</td>\n",
              "      <td>NaN</td>\n",
              "      <td>NaN</td>\n",
              "      <td>NaN</td>\n",
              "      <td>NaN</td>\n",
              "      <td>NaN</td>\n",
              "      <td>NaN</td>\n",
              "      <td>NaN</td>\n",
              "    </tr>\n",
              "    <tr>\n",
              "      <th>139</th>\n",
              "      <td>NorthAmerican</td>\n",
              "      <td>tomato</td>\n",
              "      <td>olive_oil</td>\n",
              "      <td>pepper</td>\n",
              "      <td>lemon</td>\n",
              "      <td>chicken_broth</td>\n",
              "      <td>parsley</td>\n",
              "      <td>basil</td>\n",
              "      <td>garlic</td>\n",
              "      <td>orange</td>\n",
              "      <td>zucchini</td>\n",
              "      <td>egg</td>\n",
              "      <td>bread</td>\n",
              "      <td>NaN</td>\n",
              "      <td>NaN</td>\n",
              "      <td>NaN</td>\n",
              "      <td>NaN</td>\n",
              "      <td>NaN</td>\n",
              "      <td>NaN</td>\n",
              "      <td>NaN</td>\n",
              "      <td>NaN</td>\n",
              "      <td>NaN</td>\n",
              "      <td>NaN</td>\n",
              "      <td>NaN</td>\n",
              "      <td>NaN</td>\n",
              "      <td>NaN</td>\n",
              "      <td>NaN</td>\n",
              "      <td>NaN</td>\n",
              "      <td>NaN</td>\n",
              "      <td>NaN</td>\n",
              "      <td>NaN</td>\n",
              "      <td>NaN</td>\n",
              "      <td>NaN</td>\n",
              "    </tr>\n",
              "  </tbody>\n",
              "</table>\n",
              "<p>140 rows × 33 columns</p>\n",
              "</div>"
            ],
            "text/plain": [
              "                0           1                    2   ...   30   31   32\n",
              "0        EastAsian         nut                  NaN  ...  NaN  NaN  NaN\n",
              "1        EastAsian  sesame_oil  roasted_sesame_seed  ...  NaN  NaN  NaN\n",
              "2        EastAsian  sesame_oil             mushroom  ...  NaN  NaN  NaN\n",
              "3        EastAsian      garlic                 fish  ...  NaN  NaN  NaN\n",
              "4        EastAsian      garlic           sesame_oil  ...  NaN  NaN  NaN\n",
              "..             ...         ...                  ...  ...  ...  ...  ...\n",
              "135  NorthAmerican      tomato            olive_oil  ...  NaN  NaN  NaN\n",
              "136  NorthAmerican      tomato                 dill  ...  NaN  NaN  NaN\n",
              "137  NorthAmerican      butter                wheat  ...  NaN  NaN  NaN\n",
              "138  NorthAmerican      butter               pepper  ...  NaN  NaN  NaN\n",
              "139  NorthAmerican      tomato            olive_oil  ...  NaN  NaN  NaN\n",
              "\n",
              "[140 rows x 33 columns]"
            ]
          },
          "metadata": {},
          "execution_count": 7
        }
      ],
      "source": [
        "df_reduced"
      ]
    },
    {
      "cell_type": "code",
      "execution_count": null,
      "metadata": {
        "id": "bspvr9XkBM_R"
      },
      "outputs": [],
      "source": [
        "df_r2 = df_reduced.drop([0], axis = 1)"
      ]
    },
    {
      "cell_type": "markdown",
      "source": [
        "### Saving the reduced df"
      ],
      "metadata": {
        "id": "3b28W0eA7ffT"
      }
    },
    {
      "cell_type": "code",
      "source": [
        "# change path here\n",
        "df_reduced.to_csv('/content/drive/Shareddrives/FoodBridging/data/reduced_df_20.csv')"
      ],
      "metadata": {
        "id": "ujRSMaPl7hYL"
      },
      "execution_count": null,
      "outputs": []
    },
    {
      "cell_type": "markdown",
      "metadata": {
        "id": "iSJqYE3ICZBz"
      },
      "source": [
        "### Finding unique ingredients from the reduced sample to make a subgraph of the flavour network"
      ]
    },
    {
      "cell_type": "code",
      "execution_count": null,
      "metadata": {
        "id": "gCnkx8DfBSOM",
        "colab": {
          "base_uri": "https://localhost:8080/"
        },
        "outputId": "546a84a0-483f-4954-c891-8eaaebef44a8"
      },
      "outputs": [
        {
          "output_type": "stream",
          "name": "stdout",
          "text": [
            "Number of unique nodes in the sub graph of the sample:  188\n"
          ]
        }
      ],
      "source": [
        "unique_nodes = pd.Series(df_r2.values.ravel()).unique()\n",
        "print('Number of unique nodes in the sub graph of the sample: ', len(pd.Series(df_r2.values.ravel()).unique()))"
      ]
    },
    {
      "cell_type": "code",
      "execution_count": null,
      "metadata": {
        "id": "YX-U_4O34I9d",
        "colab": {
          "base_uri": "https://localhost:8080/"
        },
        "outputId": "3f8c135d-01e4-4916-91c7-f36ad301c0b5"
      },
      "outputs": [
        {
          "output_type": "execute_result",
          "data": {
            "text/plain": [
              "array(['nut', nan, 'sesame_oil', 'roasted_sesame_seed', 'soy_sauce',\n",
              "       'cayenne', 'chinese_cabbage', 'shrimp', 'garlic', 'ginger',\n",
              "       'scallion', 'mushroom', 'starch', 'shallot', 'corn', 'white_wine',\n",
              "       'bean', 'carrot', 'soybean', 'oyster', 'cilantro', 'onion',\n",
              "       'asparagus', 'chicken_broth', 'celery', 'fish', 'root', 'shiitake',\n",
              "       'potato', 'black_pepper', 'cane_molasses', 'peanut', 'almond',\n",
              "       'raisin', 'walnut', 'cinnamon', 'vegetable_oil', 'sesame_seed',\n",
              "       'vinegar', 'vegetable', 'egg', 'chicken', 'beef_broth',\n",
              "       'watermelon', 'sake', 'honey', 'matsutake', 'pork',\n",
              "       'green_bell_pepper', 'celery_oil', 'tomato', 'cider', 'pineapple',\n",
              "       'beef', 'pear', 'wheat', 'rice', 'radish', 'parsley',\n",
              "       'japanese_plum', 'cucumber', 'seaweed', 'tuna', 'butter', 'wine',\n",
              "       'clam', 'peanut_oil', 'yeast', 'oregano', 'tequila', 'lime_juice',\n",
              "       'cumin', 'cheese', 'cottage_cheese', 'bell_pepper', 'olive_oil',\n",
              "       'cassava', 'avocado', 'cheddar_cheese', 'parmesan_cheese', 'bread',\n",
              "       'citrus', 'lettuce', 'orange_juice', 'lime', 'rum', 'nutmeg',\n",
              "       'sweet_potato', 'banana', 'olive', 'milk_fat', 'vanilla', 'milk',\n",
              "       'pepper', 'kidney_bean', 'brown_rice', 'cream_cheese', 'cocoa',\n",
              "       'pork_sausage', 'roasted_beef', 'lemon_juice', 'mint', 'pimento',\n",
              "       'orange', 'turkey', 'lard', 'chive', 'apricot', 'hazelnut',\n",
              "       'cream', 'coconut', 'lemon', 'anise', 'dill', 'brandy', 'bay',\n",
              "       'leek', 'thyme', 'rosemary', 'gelatin', 'strawberry', 'chickpea',\n",
              "       'meat', 'romano_cheese', 'grapefruit', 'grape_juice', 'buttermilk',\n",
              "       'whole_grain_wheat_flour', 'pea', 'cherry', 'currant', 'tangerine',\n",
              "       'bitter_orange', 'maple_syrup', 'fig', 'cranberry', 'mustard',\n",
              "       'coffee', 'whiskey', 'chicory', 'star_anise', 'veal', 'bacon',\n",
              "       'basil', 'pumpkin', 'smoked_sausage', 'sauerkraut', 'red_wine',\n",
              "       'feta_cheese', 'pimenta', 'blue_cheese', 'fennel', 'white_bread',\n",
              "       'macaroni', 'truffle', 'zucchini', 'pistachio', 'lemon_peel',\n",
              "       'mozzarella_cheese', 'broccoli', 'ham', 'melon', 'coriander',\n",
              "       'lemongrass', 'fenugreek', 'roasted_peanut', 'turmeric',\n",
              "       'tabasco_pepper', 'violet', 'yam', 'salmon', 'peanut_butter',\n",
              "       'cabbage', 'palm', 'papaya', 'mango', 'seed', 'sherry', 'oat',\n",
              "       'lentil', 'marjoram', 'sage', 'cauliflower', 'pecan', 'yogurt',\n",
              "       'raspberry', 'beet', 'corn_flake'], dtype=object)"
            ]
          },
          "metadata": {},
          "execution_count": 11
        }
      ],
      "source": [
        "unique_nodes"
      ]
    },
    {
      "cell_type": "code",
      "execution_count": null,
      "metadata": {
        "id": "roEeZt9kVfcc"
      },
      "outputs": [],
      "source": [
        "data_fb.columns = ['source', 'target', 'weight']"
      ]
    },
    {
      "cell_type": "code",
      "execution_count": null,
      "metadata": {
        "colab": {
          "base_uri": "https://localhost:8080/",
          "height": 424
        },
        "id": "3-mZnzMV2Rbo",
        "outputId": "7ac60632-a52e-4544-8db6-644c6427e7fe"
      },
      "outputs": [
        {
          "output_type": "execute_result",
          "data": {
            "text/html": [
              "<div>\n",
              "<style scoped>\n",
              "    .dataframe tbody tr th:only-of-type {\n",
              "        vertical-align: middle;\n",
              "    }\n",
              "\n",
              "    .dataframe tbody tr th {\n",
              "        vertical-align: top;\n",
              "    }\n",
              "\n",
              "    .dataframe thead th {\n",
              "        text-align: right;\n",
              "    }\n",
              "</style>\n",
              "<table border=\"1\" class=\"dataframe\">\n",
              "  <thead>\n",
              "    <tr style=\"text-align: right;\">\n",
              "      <th></th>\n",
              "      <th>weight</th>\n",
              "    </tr>\n",
              "  </thead>\n",
              "  <tbody>\n",
              "    <tr>\n",
              "      <th>0</th>\n",
              "      <td>3</td>\n",
              "    </tr>\n",
              "    <tr>\n",
              "      <th>1</th>\n",
              "      <td>5</td>\n",
              "    </tr>\n",
              "    <tr>\n",
              "      <th>2</th>\n",
              "      <td>57</td>\n",
              "    </tr>\n",
              "    <tr>\n",
              "      <th>3</th>\n",
              "      <td>1</td>\n",
              "    </tr>\n",
              "    <tr>\n",
              "      <th>4</th>\n",
              "      <td>2</td>\n",
              "    </tr>\n",
              "    <tr>\n",
              "      <th>...</th>\n",
              "      <td>...</td>\n",
              "    </tr>\n",
              "    <tr>\n",
              "      <th>221772</th>\n",
              "      <td>1</td>\n",
              "    </tr>\n",
              "    <tr>\n",
              "      <th>221773</th>\n",
              "      <td>6</td>\n",
              "    </tr>\n",
              "    <tr>\n",
              "      <th>221774</th>\n",
              "      <td>1</td>\n",
              "    </tr>\n",
              "    <tr>\n",
              "      <th>221775</th>\n",
              "      <td>6</td>\n",
              "    </tr>\n",
              "    <tr>\n",
              "      <th>221776</th>\n",
              "      <td>4</td>\n",
              "    </tr>\n",
              "  </tbody>\n",
              "</table>\n",
              "<p>221777 rows × 1 columns</p>\n",
              "</div>"
            ],
            "text/plain": [
              "        weight\n",
              "0            3\n",
              "1            5\n",
              "2           57\n",
              "3            1\n",
              "4            2\n",
              "...        ...\n",
              "221772       1\n",
              "221773       6\n",
              "221774       1\n",
              "221775       6\n",
              "221776       4\n",
              "\n",
              "[221777 rows x 1 columns]"
            ]
          },
          "metadata": {},
          "execution_count": 13
        }
      ],
      "source": [
        "data_fb[['weight']].apply(pd.to_numeric)"
      ]
    },
    {
      "cell_type": "markdown",
      "metadata": {
        "id": "xvWRCC--qViW"
      },
      "source": [
        "### Constructing the backbone networks"
      ]
    },
    {
      "cell_type": "code",
      "execution_count": null,
      "metadata": {
        "id": "ILYcdWwCRC8f"
      },
      "outputs": [],
      "source": [
        "G = nx.Graph()\n",
        "G = nx.from_pandas_edgelist(data_fb, edge_attr='weight')"
      ]
    },
    {
      "cell_type": "code",
      "execution_count": null,
      "metadata": {
        "id": "plVIM9bGxzVB"
      },
      "outputs": [],
      "source": [
        "# making a sampled subgraph \n",
        "G_sub = G.subgraph(unique_nodes)"
      ]
    },
    {
      "cell_type": "code",
      "execution_count": null,
      "metadata": {
        "colab": {
          "base_uri": "https://localhost:8080/"
        },
        "id": "CE1u-wjxYCEe",
        "outputId": "43a0c526-4e62-4509-966d-f10ea076cfd1"
      },
      "outputs": [
        {
          "output_type": "execute_result",
          "data": {
            "text/plain": [
              "[('ginger', 'garlic', {'weight': 2})]"
            ]
          },
          "metadata": {},
          "execution_count": 16
        }
      ],
      "source": [
        "[(u, v, d) for (u, v, d) in G_sub.edges(data=True) if u == 'ginger' and v == 'garlic']"
      ]
    },
    {
      "cell_type": "code",
      "execution_count": null,
      "metadata": {
        "id": "Vzcm5uN76EDL"
      },
      "outputs": [],
      "source": [
        "# plt.figure(figsize = [100,100])\n",
        "# pos = nx.circular_layout(G_sub)\n",
        "\n",
        "# nx.draw(G_sub, pos, with_labels= True)"
      ]
    },
    {
      "cell_type": "code",
      "source": [
        "from itertools import islice\n",
        "def k_shortest_paths(G, source, target, k, weight = 'weight'):\n",
        "  '''\n",
        "  Function for k-shortest paths \n",
        "  '''\n",
        "        return list(islice(nx.shortest_simple_paths(G, source, target, weight = 'weight'), k))"
      ],
      "metadata": {
        "id": "0aQyhoKOCRXF"
      },
      "execution_count": null,
      "outputs": []
    },
    {
      "cell_type": "code",
      "source": [
        "edges = list(G_sub.edges)"
      ],
      "metadata": {
        "id": "vT9MaEGGFcmN"
      },
      "execution_count": null,
      "outputs": []
    },
    {
      "cell_type": "code",
      "source": [
        "G_sub.get_edge_data(edges[0][0], edges[0][1])['weight']"
      ],
      "metadata": {
        "colab": {
          "base_uri": "https://localhost:8080/"
        },
        "id": "8vm7urrPFxjs",
        "outputId": "672edd7e-e541-4a9f-e300-a58e313da45a"
      },
      "execution_count": null,
      "outputs": [
        {
          "output_type": "execute_result",
          "data": {
            "text/plain": [
              "6"
            ]
          },
          "metadata": {},
          "execution_count": 20
        }
      ]
    },
    {
      "cell_type": "code",
      "source": [
        "from tqdm.notebook import trange, tqdm\n",
        "m = []\n",
        "sm = []\n",
        "\n",
        "for i in trange(len(edges)):\n",
        "    flag = 1\n",
        "    edge = edges[i]\n",
        "    source_vertex = edge[0]\n",
        "    target_vertex = edge[1]\n",
        "\n",
        "    ksp = k_shortest_paths(G_sub, source = source_vertex, target = target_vertex, k = 10)\n",
        "    weight = G_sub.get_edge_data(edges[i][0], edges[i][1])['weight']\n",
        "\n",
        "    sp_costs = []\n",
        "\n",
        "    for i in range(len(ksp)):\n",
        "      path_cost = 0\n",
        "      for j in range(len(ksp[i]) - 1):\n",
        "        path_cost = path_cost + G_sub.get_edge_data(ksp[i][j], ksp[i][j+1])['weight']\n",
        "\n",
        "      #print(path_cost, weight)\n",
        "      sp_costs.append(path_cost)\n",
        "\n",
        "    \n",
        "    for cost in sp_costs: \n",
        "        if flag == 1:\n",
        "            if cost > weight:\n",
        "                flag = 0\n",
        "                sm.append(edge)\n",
        "                #print('semi-metric', len(sm))\n",
        "                break\n",
        "\n",
        "    if flag == 1:\n",
        "        m.append(edge)\n",
        "        #print('metric', len(m))"
      ],
      "metadata": {
        "colab": {
          "base_uri": "https://localhost:8080/",
          "height": 49,
          "referenced_widgets": [
            "149680f2811b4d619782e193f1b17ae4",
            "46ca30ff49e04ad6b19b54671ab00bb2",
            "9923e174eb134a3c98d55f93842ffa63",
            "5e87e57d3eda427d8f314531c7c7094f",
            "0cc2c42723b04a61a283b0c1bd4ad215",
            "01effb968bb4487b8de10210ee4d6328",
            "64412b897410413692ab41d0519d21fd",
            "77b7487daf344c1aa1ce097df0e9bd15",
            "37c23277ba9645b5acde50c07141a078",
            "b2d1d6748bb945a382d13662fe05e6ce",
            "e567697f7ec9441c8593c2f844a909c9"
          ]
        },
        "id": "ksJ2yGdcFKk5",
        "outputId": "e3d09460-2a4d-43b2-bf13-30447179fd37"
      },
      "execution_count": null,
      "outputs": [
        {
          "output_type": "display_data",
          "data": {
            "application/vnd.jupyter.widget-view+json": {
              "model_id": "149680f2811b4d619782e193f1b17ae4",
              "version_minor": 0,
              "version_major": 2
            },
            "text/plain": [
              "  0%|          | 0/11173 [00:00<?, ?it/s]"
            ]
          },
          "metadata": {}
        }
      ]
    },
    {
      "cell_type": "code",
      "source": [
        "len(sm), len(m)"
      ],
      "metadata": {
        "colab": {
          "base_uri": "https://localhost:8080/"
        },
        "id": "B02XLVIcQyMG",
        "outputId": "82bb0710-a9e3-42a3-b4d7-8d329718ef03"
      },
      "execution_count": null,
      "outputs": [
        {
          "output_type": "execute_result",
          "data": {
            "text/plain": [
              "(2708, 8465)"
            ]
          },
          "metadata": {},
          "execution_count": 22
        }
      ]
    },
    {
      "cell_type": "markdown",
      "source": [
        "### Saving the backbone networks"
      ],
      "metadata": {
        "id": "6nCLkhH9sFe7"
      }
    },
    {
      "cell_type": "code",
      "source": [
        "semi_metric = G_sub.edge_subgraph(sm).copy()"
      ],
      "metadata": {
        "id": "NwX1DIo9SKjW"
      },
      "execution_count": null,
      "outputs": []
    },
    {
      "cell_type": "code",
      "source": [
        "metric = G_sub.edge_subgraph(m).copy()"
      ],
      "metadata": {
        "id": "3osVOEsdSZL_"
      },
      "execution_count": null,
      "outputs": []
    },
    {
      "cell_type": "code",
      "source": [
        "nx.write_edgelist(semi_metric, '/content/drive/Shareddrives/FoodBridging/data/semi_metric_20.csv', comments=\"#\", delimiter=\",\", data=True, encoding=\"utf-8\")"
      ],
      "metadata": {
        "id": "HegfeZrDUct8"
      },
      "execution_count": null,
      "outputs": []
    },
    {
      "cell_type": "code",
      "source": [
        "nx.write_edgelist(metric, '/content/drive/Shareddrives/FoodBridging/data/metric_20.csv', comments=\"#\", delimiter=\",\", data=True, encoding=\"utf-8\")"
      ],
      "metadata": {
        "id": "yYStagUrU1T7"
      },
      "execution_count": null,
      "outputs": []
    }
  ],
  "metadata": {
    "colab": {
      "collapsed_sections": [],
      "name": "metric_semi_metric.ipynb",
      "provenance": []
    },
    "kernelspec": {
      "display_name": "Python 3",
      "name": "python3"
    },
    "language_info": {
      "name": "python"
    },
    "widgets": {
      "application/vnd.jupyter.widget-state+json": {
        "149680f2811b4d619782e193f1b17ae4": {
          "model_module": "@jupyter-widgets/controls",
          "model_name": "HBoxModel",
          "model_module_version": "1.5.0",
          "state": {
            "_view_name": "HBoxView",
            "_dom_classes": [],
            "_model_name": "HBoxModel",
            "_view_module": "@jupyter-widgets/controls",
            "_model_module_version": "1.5.0",
            "_view_count": null,
            "_view_module_version": "1.5.0",
            "box_style": "",
            "layout": "IPY_MODEL_46ca30ff49e04ad6b19b54671ab00bb2",
            "_model_module": "@jupyter-widgets/controls",
            "children": [
              "IPY_MODEL_9923e174eb134a3c98d55f93842ffa63",
              "IPY_MODEL_5e87e57d3eda427d8f314531c7c7094f",
              "IPY_MODEL_0cc2c42723b04a61a283b0c1bd4ad215"
            ]
          }
        },
        "46ca30ff49e04ad6b19b54671ab00bb2": {
          "model_module": "@jupyter-widgets/base",
          "model_name": "LayoutModel",
          "model_module_version": "1.2.0",
          "state": {
            "_view_name": "LayoutView",
            "grid_template_rows": null,
            "right": null,
            "justify_content": null,
            "_view_module": "@jupyter-widgets/base",
            "overflow": null,
            "_model_module_version": "1.2.0",
            "_view_count": null,
            "flex_flow": null,
            "width": null,
            "min_width": null,
            "border": null,
            "align_items": null,
            "bottom": null,
            "_model_module": "@jupyter-widgets/base",
            "top": null,
            "grid_column": null,
            "overflow_y": null,
            "overflow_x": null,
            "grid_auto_flow": null,
            "grid_area": null,
            "grid_template_columns": null,
            "flex": null,
            "_model_name": "LayoutModel",
            "justify_items": null,
            "grid_row": null,
            "max_height": null,
            "align_content": null,
            "visibility": null,
            "align_self": null,
            "height": null,
            "min_height": null,
            "padding": null,
            "grid_auto_rows": null,
            "grid_gap": null,
            "max_width": null,
            "order": null,
            "_view_module_version": "1.2.0",
            "grid_template_areas": null,
            "object_position": null,
            "object_fit": null,
            "grid_auto_columns": null,
            "margin": null,
            "display": null,
            "left": null
          }
        },
        "9923e174eb134a3c98d55f93842ffa63": {
          "model_module": "@jupyter-widgets/controls",
          "model_name": "HTMLModel",
          "model_module_version": "1.5.0",
          "state": {
            "_view_name": "HTMLView",
            "style": "IPY_MODEL_01effb968bb4487b8de10210ee4d6328",
            "_dom_classes": [],
            "description": "",
            "_model_name": "HTMLModel",
            "placeholder": "​",
            "_view_module": "@jupyter-widgets/controls",
            "_model_module_version": "1.5.0",
            "value": "100%",
            "_view_count": null,
            "_view_module_version": "1.5.0",
            "description_tooltip": null,
            "_model_module": "@jupyter-widgets/controls",
            "layout": "IPY_MODEL_64412b897410413692ab41d0519d21fd"
          }
        },
        "5e87e57d3eda427d8f314531c7c7094f": {
          "model_module": "@jupyter-widgets/controls",
          "model_name": "FloatProgressModel",
          "model_module_version": "1.5.0",
          "state": {
            "_view_name": "ProgressView",
            "style": "IPY_MODEL_77b7487daf344c1aa1ce097df0e9bd15",
            "_dom_classes": [],
            "description": "",
            "_model_name": "FloatProgressModel",
            "bar_style": "success",
            "max": 11173,
            "_view_module": "@jupyter-widgets/controls",
            "_model_module_version": "1.5.0",
            "value": 11173,
            "_view_count": null,
            "_view_module_version": "1.5.0",
            "orientation": "horizontal",
            "min": 0,
            "description_tooltip": null,
            "_model_module": "@jupyter-widgets/controls",
            "layout": "IPY_MODEL_37c23277ba9645b5acde50c07141a078"
          }
        },
        "0cc2c42723b04a61a283b0c1bd4ad215": {
          "model_module": "@jupyter-widgets/controls",
          "model_name": "HTMLModel",
          "model_module_version": "1.5.0",
          "state": {
            "_view_name": "HTMLView",
            "style": "IPY_MODEL_b2d1d6748bb945a382d13662fe05e6ce",
            "_dom_classes": [],
            "description": "",
            "_model_name": "HTMLModel",
            "placeholder": "​",
            "_view_module": "@jupyter-widgets/controls",
            "_model_module_version": "1.5.0",
            "value": " 11173/11173 [2:22:04&lt;00:00,  1.25it/s]",
            "_view_count": null,
            "_view_module_version": "1.5.0",
            "description_tooltip": null,
            "_model_module": "@jupyter-widgets/controls",
            "layout": "IPY_MODEL_e567697f7ec9441c8593c2f844a909c9"
          }
        },
        "01effb968bb4487b8de10210ee4d6328": {
          "model_module": "@jupyter-widgets/controls",
          "model_name": "DescriptionStyleModel",
          "model_module_version": "1.5.0",
          "state": {
            "_view_name": "StyleView",
            "_model_name": "DescriptionStyleModel",
            "description_width": "",
            "_view_module": "@jupyter-widgets/base",
            "_model_module_version": "1.5.0",
            "_view_count": null,
            "_view_module_version": "1.2.0",
            "_model_module": "@jupyter-widgets/controls"
          }
        },
        "64412b897410413692ab41d0519d21fd": {
          "model_module": "@jupyter-widgets/base",
          "model_name": "LayoutModel",
          "model_module_version": "1.2.0",
          "state": {
            "_view_name": "LayoutView",
            "grid_template_rows": null,
            "right": null,
            "justify_content": null,
            "_view_module": "@jupyter-widgets/base",
            "overflow": null,
            "_model_module_version": "1.2.0",
            "_view_count": null,
            "flex_flow": null,
            "width": null,
            "min_width": null,
            "border": null,
            "align_items": null,
            "bottom": null,
            "_model_module": "@jupyter-widgets/base",
            "top": null,
            "grid_column": null,
            "overflow_y": null,
            "overflow_x": null,
            "grid_auto_flow": null,
            "grid_area": null,
            "grid_template_columns": null,
            "flex": null,
            "_model_name": "LayoutModel",
            "justify_items": null,
            "grid_row": null,
            "max_height": null,
            "align_content": null,
            "visibility": null,
            "align_self": null,
            "height": null,
            "min_height": null,
            "padding": null,
            "grid_auto_rows": null,
            "grid_gap": null,
            "max_width": null,
            "order": null,
            "_view_module_version": "1.2.0",
            "grid_template_areas": null,
            "object_position": null,
            "object_fit": null,
            "grid_auto_columns": null,
            "margin": null,
            "display": null,
            "left": null
          }
        },
        "77b7487daf344c1aa1ce097df0e9bd15": {
          "model_module": "@jupyter-widgets/controls",
          "model_name": "ProgressStyleModel",
          "model_module_version": "1.5.0",
          "state": {
            "_view_name": "StyleView",
            "_model_name": "ProgressStyleModel",
            "description_width": "",
            "_view_module": "@jupyter-widgets/base",
            "_model_module_version": "1.5.0",
            "_view_count": null,
            "_view_module_version": "1.2.0",
            "bar_color": null,
            "_model_module": "@jupyter-widgets/controls"
          }
        },
        "37c23277ba9645b5acde50c07141a078": {
          "model_module": "@jupyter-widgets/base",
          "model_name": "LayoutModel",
          "model_module_version": "1.2.0",
          "state": {
            "_view_name": "LayoutView",
            "grid_template_rows": null,
            "right": null,
            "justify_content": null,
            "_view_module": "@jupyter-widgets/base",
            "overflow": null,
            "_model_module_version": "1.2.0",
            "_view_count": null,
            "flex_flow": null,
            "width": null,
            "min_width": null,
            "border": null,
            "align_items": null,
            "bottom": null,
            "_model_module": "@jupyter-widgets/base",
            "top": null,
            "grid_column": null,
            "overflow_y": null,
            "overflow_x": null,
            "grid_auto_flow": null,
            "grid_area": null,
            "grid_template_columns": null,
            "flex": null,
            "_model_name": "LayoutModel",
            "justify_items": null,
            "grid_row": null,
            "max_height": null,
            "align_content": null,
            "visibility": null,
            "align_self": null,
            "height": null,
            "min_height": null,
            "padding": null,
            "grid_auto_rows": null,
            "grid_gap": null,
            "max_width": null,
            "order": null,
            "_view_module_version": "1.2.0",
            "grid_template_areas": null,
            "object_position": null,
            "object_fit": null,
            "grid_auto_columns": null,
            "margin": null,
            "display": null,
            "left": null
          }
        },
        "b2d1d6748bb945a382d13662fe05e6ce": {
          "model_module": "@jupyter-widgets/controls",
          "model_name": "DescriptionStyleModel",
          "model_module_version": "1.5.0",
          "state": {
            "_view_name": "StyleView",
            "_model_name": "DescriptionStyleModel",
            "description_width": "",
            "_view_module": "@jupyter-widgets/base",
            "_model_module_version": "1.5.0",
            "_view_count": null,
            "_view_module_version": "1.2.0",
            "_model_module": "@jupyter-widgets/controls"
          }
        },
        "e567697f7ec9441c8593c2f844a909c9": {
          "model_module": "@jupyter-widgets/base",
          "model_name": "LayoutModel",
          "model_module_version": "1.2.0",
          "state": {
            "_view_name": "LayoutView",
            "grid_template_rows": null,
            "right": null,
            "justify_content": null,
            "_view_module": "@jupyter-widgets/base",
            "overflow": null,
            "_model_module_version": "1.2.0",
            "_view_count": null,
            "flex_flow": null,
            "width": null,
            "min_width": null,
            "border": null,
            "align_items": null,
            "bottom": null,
            "_model_module": "@jupyter-widgets/base",
            "top": null,
            "grid_column": null,
            "overflow_y": null,
            "overflow_x": null,
            "grid_auto_flow": null,
            "grid_area": null,
            "grid_template_columns": null,
            "flex": null,
            "_model_name": "LayoutModel",
            "justify_items": null,
            "grid_row": null,
            "max_height": null,
            "align_content": null,
            "visibility": null,
            "align_self": null,
            "height": null,
            "min_height": null,
            "padding": null,
            "grid_auto_rows": null,
            "grid_gap": null,
            "max_width": null,
            "order": null,
            "_view_module_version": "1.2.0",
            "grid_template_areas": null,
            "object_position": null,
            "object_fit": null,
            "grid_auto_columns": null,
            "margin": null,
            "display": null,
            "left": null
          }
        }
      }
    }
  },
  "nbformat": 4,
  "nbformat_minor": 0
}